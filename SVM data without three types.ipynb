{
 "cells": [
  {
   "cell_type": "code",
   "execution_count": 1,
   "metadata": {},
   "outputs": [],
   "source": [
    "import numpy as np\n",
    "import pandas as pd\n",
    "import pickle\n",
    "from sklearn.neighbors import KNeighborsClassifier\n",
    "import cmath \n",
    "import numpy as geek\n",
    "import cmath, math, numpy\n",
    "\n",
    "import matplotlib.pyplot as plt\n",
    "plt.style.use('seaborn-whitegrid')"
   ]
  },
  {
   "cell_type": "code",
   "execution_count": 6,
   "metadata": {},
   "outputs": [],
   "source": [
    "file = open(\"TrainData.pkl\", 'rb')\n",
    "Xd = pickle.load(file, encoding = 'bytes')\n",
    "snrs, mods = map(lambda j: sorted(list(set(map(lambda x: x[j], Xd.keys())))), [1, 0])\n",
    "X = [] \n",
    "lbl = []\n",
    "for mod in mods:\n",
    "    for snr in snrs:\n",
    "        X.append(Xd[(mod, snr)])\n",
    "        for i in range(Xd[(mod, snr)].shape[0]):  lbl.append((mod))#lbl.append((mod, snr))\n",
    "X = np.vstack(X)\n",
    "file.close()"
   ]
  },
  {
   "cell_type": "code",
   "execution_count": 7,
   "metadata": {},
   "outputs": [
    {
     "data": {
      "text/plain": [
       "220000"
      ]
     },
     "execution_count": 7,
     "metadata": {},
     "output_type": "execute_result"
    }
   ],
   "source": [
    "len(X)"
   ]
  },
  {
   "cell_type": "code",
   "execution_count": 8,
   "metadata": {},
   "outputs": [],
   "source": [
    "features        = {}\n",
    "features['raw'] = X[:, 0], X[:, 1]"
   ]
  },
  {
   "cell_type": "code",
   "execution_count": 9,
   "metadata": {},
   "outputs": [],
   "source": [
    "Data = []\n",
    "\n",
    "for i in range(len(lbl)):\n",
    "    Data.append([lbl[i], X[i]])"
   ]
  },
  {
   "cell_type": "code",
   "execution_count": 10,
   "metadata": {},
   "outputs": [],
   "source": [
    "df = pd.DataFrame(Data, columns=[\"lbl\", \"IQs\"])\n",
    "#df[\"lbl\"][0]#change iqs or lbl to detect the label or array"
   ]
  },
  {
   "cell_type": "code",
   "execution_count": 11,
   "metadata": {},
   "outputs": [],
   "source": [
    "x=Data[20000:140000]\n",
    "y=Data[180000:220000]\n",
    "z=x+y"
   ]
  },
  {
   "cell_type": "code",
   "execution_count": 12,
   "metadata": {},
   "outputs": [],
   "source": [
    "a=lbl[20000:140000]\n",
    "n=lbl[180000:220000]\n",
    "s=(a+n)"
   ]
  },
  {
   "cell_type": "code",
   "execution_count": 13,
   "metadata": {},
   "outputs": [
    {
     "data": {
      "text/plain": [
       "160000"
      ]
     },
     "execution_count": 13,
     "metadata": {},
     "output_type": "execute_result"
    }
   ],
   "source": [
    "len(s)"
   ]
  },
  {
   "cell_type": "code",
   "execution_count": 14,
   "metadata": {},
   "outputs": [
    {
     "data": {
      "text/plain": [
       "b'QPSK'"
      ]
     },
     "execution_count": 14,
     "metadata": {},
     "output_type": "execute_result"
    }
   ],
   "source": [
    "s[120000]"
   ]
  },
  {
   "cell_type": "code",
   "execution_count": 15,
   "metadata": {},
   "outputs": [],
   "source": [
    "#df"
   ]
  },
  {
   "cell_type": "code",
   "execution_count": 16,
   "metadata": {},
   "outputs": [],
   "source": [
    "#Data2=df.drop(df.index[0:20000])    #to drop the data in range"
   ]
  },
  {
   "cell_type": "code",
   "execution_count": 17,
   "metadata": {
    "scrolled": true
   },
   "outputs": [],
   "source": [
    "#Data2"
   ]
  },
  {
   "cell_type": "code",
   "execution_count": 18,
   "metadata": {},
   "outputs": [],
   "source": [
    "#Data3=Data2.drop(Data2.index[140000:180000])    #final data -40000 of the original data"
   ]
  },
  {
   "cell_type": "code",
   "execution_count": 19,
   "metadata": {
    "scrolled": true
   },
   "outputs": [],
   "source": [
    "#Data3"
   ]
  },
  {
   "cell_type": "code",
   "execution_count": 20,
   "metadata": {},
   "outputs": [],
   "source": [
    "#Data3.shape"
   ]
  },
  {
   "cell_type": "code",
   "execution_count": 21,
   "metadata": {},
   "outputs": [],
   "source": [
    "#len(Data3)"
   ]
  },
  {
   "cell_type": "code",
   "execution_count": 22,
   "metadata": {
    "scrolled": false
   },
   "outputs": [],
   "source": [
    "Mean1 = []\n",
    "Std1 = []\n",
    "Max1 = []\n",
    "Min1 = []\n",
    "Median1 = []\n",
    "Var1 = []\n",
    "Abs1 = []\n",
    "Amp1=[]\n",
    "\n",
    "\n",
    "Mean2 = []\n",
    "Std2 = []\n",
    "Max2 = []\n",
    "Min2 = []\n",
    "Median2 = []\n",
    "Var2 = []\n",
    "Abs2 = []\n",
    "Amp2=[]\n",
    "\n",
    "for idx in range(len(z)):\n",
    "    [_, [r, i]] = z[idx]\n",
    "    phi=np.arctan(i//r) #phi = tan inverse (imaginary / real)\n",
    "    amp=np.abs(r + 1j*i)\n",
    "   \n",
    "\n",
    "    Mean1.append(np.mean(phi))\n",
    "    Max1.append(np.max(phi))\n",
    "    Min1.append(np.min(phi))\n",
    "    Std1.append(np.std(phi))\n",
    "    Median1.append(np.median(phi))\n",
    "    Var1.append(np.var(phi))\n",
    "    Abs1.append(np.mean(np.abs(phi)))\n",
    "    \n",
    "    Mean2.append(np.mean(amp))\n",
    "    Max2.append(np.max(amp))\n",
    "    Min2.append(np.min(amp))\n",
    "    Std2.append(np.std(amp))\n",
    "    Median2.append(np.median(amp))\n",
    "    Var2.append(np.var(amp))\n",
    "    Abs2.append(np.mean(np.abs(amp)))"
   ]
  },
  {
   "cell_type": "code",
   "execution_count": 23,
   "metadata": {},
   "outputs": [
    {
     "data": {
      "text/plain": [
       "160000"
      ]
     },
     "execution_count": 23,
     "metadata": {},
     "output_type": "execute_result"
    }
   ],
   "source": [
    "len(Mean1)"
   ]
  },
  {
   "cell_type": "code",
   "execution_count": 24,
   "metadata": {},
   "outputs": [],
   "source": [
    "Features = np.c_[Mean1, Std1, Max1, Min1, Median1, Var1, Abs1,Mean2, Std2, Max2, Min2, Median2, Var2, Abs2,]"
   ]
  },
  {
   "cell_type": "code",
   "execution_count": 25,
   "metadata": {},
   "outputs": [
    {
     "data": {
      "text/plain": [
       "160000"
      ]
     },
     "execution_count": 25,
     "metadata": {},
     "output_type": "execute_result"
    }
   ],
   "source": [
    "len(Features)"
   ]
  },
  {
   "cell_type": "code",
   "execution_count": 22,
   "metadata": {},
   "outputs": [],
   "source": [
    "SNR1= Features[0:1000]\n",
    "SNR2=Features[20000:21000]\n",
    "SNR3=Features[40000:41000]\n",
    "SNR4=Features[60000:61000]\n",
    "SNR5=Features[80000:81000]\n",
    "SNR6=Features[100000:101000]\n",
    "SNR7=Features[120000:121000]\n",
    "SNR8=Features[140000:141000]\n",
    "#SNR9=Features[160000:161000]\n",
    "#SNR10=Features[180000:181000]\n",
    "#SNR11=Features[200000:201000]\n",
    "SNR=np.concatenate((SNR1,SNR2,SNR3,SNR4,SNR5,SNR6,SNR7,SNR8),axis=0)"
   ]
  },
  {
   "cell_type": "code",
   "execution_count": 23,
   "metadata": {},
   "outputs": [
    {
     "data": {
      "text/plain": [
       "array([[-2.1327798e-01,  8.9936739e-01,  1.5683025e+00, ...,\n",
       "         7.0684627e-03,  1.7165570e-05,  7.8125000e-03],\n",
       "       [-1.0950999e-01,  9.9047166e-01,  1.5526165e+00, ...,\n",
       "         7.1438355e-03,  1.7013048e-05,  7.8125000e-03],\n",
       "       [-1.5349579e-01,  9.6834219e-01,  1.5083776e+00, ...,\n",
       "         7.4728839e-03,  1.3524331e-05,  7.8124995e-03],\n",
       "       ...,\n",
       "       [-2.5115395e-01,  8.7196767e-01,  1.5522799e+00, ...,\n",
       "         7.4630631e-03,  1.6928132e-05,  7.8125000e-03],\n",
       "       [-2.3518172e-01,  8.4584874e-01,  1.5631629e+00, ...,\n",
       "         7.2624623e-03,  1.7424922e-05,  7.8124995e-03],\n",
       "       [-3.0275542e-01,  8.5718435e-01,  1.5083776e+00, ...,\n",
       "         7.6798452e-03,  1.3532626e-05,  7.8125000e-03]], dtype=float32)"
      ]
     },
     "execution_count": 23,
     "metadata": {},
     "output_type": "execute_result"
    }
   ],
   "source": [
    "SNR1"
   ]
  },
  {
   "cell_type": "code",
   "execution_count": 24,
   "metadata": {},
   "outputs": [
    {
     "data": {
      "text/plain": [
       "(8000, (8000, 14))"
      ]
     },
     "execution_count": 24,
     "metadata": {},
     "output_type": "execute_result"
    }
   ],
   "source": [
    "len(SNR),SNR.shape"
   ]
  },
  {
   "cell_type": "code",
   "execution_count": 25,
   "metadata": {},
   "outputs": [],
   "source": [
    "lbl1= s[0:1000]\n",
    "lbl2=s[20000:21000]\n",
    "lbl3=s[40000:41000]\n",
    "lbl4=s[60000:61000]\n",
    "lbl5=s[80000:81000]\n",
    "lbl6=s[100000:101000]\n",
    "lbl7=s[120000:121000]\n",
    "lbl8=s[140000:141000]\n",
    "#lbl9=lbl[160000:161000]\n",
    "#lbl10=lbl[180000:181000]\n",
    "#lbl11=lbl[200000:201000]\n",
    "lbl=np.concatenate((lbl1,lbl2,lbl3,lbl4,lbl5,lbl6,lbl7,lbl8),axis=0)"
   ]
  },
  {
   "cell_type": "code",
   "execution_count": 26,
   "metadata": {},
   "outputs": [
    {
     "data": {
      "text/plain": [
       "(8000, (8000,))"
      ]
     },
     "execution_count": 26,
     "metadata": {},
     "output_type": "execute_result"
    }
   ],
   "source": [
    "len(lbl),lbl.shape"
   ]
  },
  {
   "cell_type": "code",
   "execution_count": 27,
   "metadata": {},
   "outputs": [],
   "source": [
    "from sklearn.model_selection import train_test_split\n",
    "\n",
    "#split dataset into train and test data\n",
    "X_train, X_test, y_train, y_test = train_test_split(SNR, lbl, test_size=0.1, random_state=1, stratify=lbl)"
   ]
  },
  {
   "cell_type": "code",
   "execution_count": 28,
   "metadata": {},
   "outputs": [],
   "source": [
    "# Import svm model\n",
    "from sklearn import svm\n",
    "\n",
    "# Create a svm Classifier\n",
    "clf = svm.SVC(kernel='linear') # Linear Kernel\n",
    "\n",
    "# Train the model using the training sets\n",
    "clf.fit(X_train, y_train)\n",
    "\n",
    "# Predict the response for test dataset\n",
    "y_pred = clf.predict(X_test)"
   ]
  },
  {
   "cell_type": "code",
   "execution_count": 29,
   "metadata": {},
   "outputs": [
    {
     "name": "stdout",
     "output_type": "stream",
     "text": [
      "Accuracy: 0.1225\n"
     ]
    }
   ],
   "source": [
    "#Import scikit-learn metrics module for accuracy calculation\n",
    "from sklearn import metrics\n",
    "\n",
    "# Model Accuracy: how often is the classifier correct?\n",
    "print(\"Accuracy:\", metrics.accuracy_score(y_test, y_pred))"
   ]
  },
  {
   "cell_type": "code",
   "execution_count": 32,
   "metadata": {
    "scrolled": false
   },
   "outputs": [
    {
     "name": "stdout",
     "output_type": "stream",
     "text": [
      "Precision: 0.06682865127521616\n",
      "Recall: 0.1225\n"
     ]
    }
   ],
   "source": [
    "from sklearn.metrics import precision_score\n",
    "from sklearn.metrics import recall_score\n",
    "\n",
    "# Model Precision: what percentage of positive tuples are labeled as such?\n",
    "print(\"Precision:\", metrics.precision_score(y_test, y_pred, pos_label='positive',average='macro')) \n",
    "           \n",
    "\n",
    "# Model Recall: what percentage of positive tuples are labelled as such?\n",
    "print(\"Recall:\", metrics.recall_score(y_test, y_pred,pos_label='positive',average='macro')) \n",
    "                                          "
   ]
  },
  {
   "cell_type": "code",
   "execution_count": 33,
   "metadata": {},
   "outputs": [],
   "source": [
    "SNR1= Features[1000:2000]\n",
    "SNR2=Features[21000:22000]\n",
    "SNR3=Features[41000:42000]\n",
    "SNR4=Features[61000:62000]\n",
    "SNR5=Features[81000:82000]\n",
    "SNR6=Features[101000:102000]\n",
    "SNR7=Features[121000:122000]\n",
    "SNR8=Features[141000:142000]\n",
    "#SNR9=Features[161000:162000]\n",
    "#SNR10=Features[181000:182000]\n",
    "#SNR11=Features[201000:202000]\n",
    "SNR=np.concatenate((SNR1,SNR2,SNR3,SNR4,SNR5,SNR6,SNR7,SNR8),axis=0)"
   ]
  },
  {
   "cell_type": "code",
   "execution_count": 34,
   "metadata": {},
   "outputs": [],
   "source": [
    "lbl1= s[1000:2000]\n",
    "lbl2=s[21000:22000]\n",
    "lbl3=s[41000:42000]\n",
    "lbl4=s[61000:62000]\n",
    "lbl5=s[81000:82000]\n",
    "lbl6=s[101000:102000]\n",
    "lbl7=s[121000:122000]\n",
    "lbl8=s[141000:142000]\n",
    "#lbl9=s[161000:162000]\n",
    "#lbl10=s[181000:182000]\n",
    "#lbl11=s[201000:202000]\n",
    "lbl=np.concatenate((lbl1,lbl2,lbl3,lbl4,lbl5,lbl6,lbl7,lbl8),axis=0)"
   ]
  },
  {
   "cell_type": "code",
   "execution_count": 35,
   "metadata": {},
   "outputs": [],
   "source": [
    "from sklearn.model_selection import train_test_split\n",
    "\n",
    "#split dataset into train and test data\n",
    "X_train, X_test, y_train, y_test = train_test_split(SNR, lbl, test_size=0.1, random_state=1, stratify=lbl)"
   ]
  },
  {
   "cell_type": "code",
   "execution_count": 36,
   "metadata": {},
   "outputs": [],
   "source": [
    "# Import svm model\n",
    "from sklearn import svm\n",
    "\n",
    "# Create a svm Classifier\n",
    "clf = svm.SVC(kernel='linear') # Linear Kernel\n",
    "\n",
    "# Train the model using the training sets\n",
    "clf.fit(X_train, y_train)\n",
    "\n",
    "# Predict the response for test dataset\n",
    "y_pred = clf.predict(X_test)"
   ]
  },
  {
   "cell_type": "code",
   "execution_count": 37,
   "metadata": {},
   "outputs": [
    {
     "name": "stdout",
     "output_type": "stream",
     "text": [
      "Accuracy: 0.11125\n"
     ]
    }
   ],
   "source": [
    "#Import scikit-learn metrics module for accuracy calculation\n",
    "from sklearn import metrics\n",
    "\n",
    "# Model Accuracy: how often is the classifier correct?\n",
    "print(\"Accuracy:\", metrics.accuracy_score(y_test, y_pred))"
   ]
  },
  {
   "cell_type": "code",
   "execution_count": 40,
   "metadata": {},
   "outputs": [
    {
     "name": "stdout",
     "output_type": "stream",
     "text": [
      "Precision: 0.06614067728053535\n",
      "Recall: 0.11125\n"
     ]
    }
   ],
   "source": [
    "from sklearn.metrics import precision_score\n",
    "from sklearn.metrics import recall_score\n",
    "\n",
    "# Model Precision: what percentage of positive tuples are labeled as such?\n",
    "print(\"Precision:\", metrics.precision_score(y_test, y_pred, pos_label='positive',average='macro')) \n",
    "           \n",
    "\n",
    "# Model Recall: what percentage of positive tuples are labelled as such?\n",
    "print(\"Recall:\", metrics.recall_score(y_test, y_pred,pos_label='positive',average='macro'))"
   ]
  },
  {
   "cell_type": "code",
   "execution_count": 41,
   "metadata": {},
   "outputs": [],
   "source": [
    "SNR1= Features[2000:3000]\n",
    "SNR2=Features[22000:23000]\n",
    "SNR3=Features[42000:43000]\n",
    "SNR4=Features[62000:63000]\n",
    "SNR5=Features[82000:83000]\n",
    "SNR6=Features[102000:103000]\n",
    "SNR7=Features[122000:123000]\n",
    "SNR8=Features[142000:143000]\n",
    "#SNR9=Features[162000:163000]\n",
    "#SNR10=Features[182000:183000]\n",
    "#SNR11=Features[202000:203000]\n",
    "SNR=np.concatenate((SNR1,SNR2,SNR3,SNR4,SNR5,SNR6,SNR7,SNR8),axis=0)"
   ]
  },
  {
   "cell_type": "code",
   "execution_count": 42,
   "metadata": {},
   "outputs": [],
   "source": [
    "lbl1= s[2000:3000]\n",
    "lbl2=s[22000:23000]\n",
    "lbl3=s[42000:43000]\n",
    "lbl4=s[62000:63000]\n",
    "lbl5=s[82000:83000]\n",
    "lbl6=s[102000:103000]\n",
    "lbl7=s[122000:123000]\n",
    "lbl8=s[142000:143000]\n",
    "#lbl9=lbl[162000:163000]\n",
    "#lbl10=lbl[182000:183000]\n",
    "#lbl11=lbl[202000:203000]\n",
    "lbl=np.concatenate((lbl1,lbl2,lbl3,lbl4,lbl5,lbl6,lbl7,lbl8),axis=0)"
   ]
  },
  {
   "cell_type": "code",
   "execution_count": 43,
   "metadata": {},
   "outputs": [],
   "source": [
    "from sklearn.model_selection import train_test_split\n",
    "\n",
    "#split dataset into train and test data\n",
    "X_train, X_test, y_train, y_test = train_test_split(SNR, lbl, test_size=0.1, random_state=1, stratify=lbl)"
   ]
  },
  {
   "cell_type": "code",
   "execution_count": 44,
   "metadata": {},
   "outputs": [],
   "source": [
    "# Import svm model\n",
    "from sklearn import svm\n",
    "\n",
    "# Create a svm Classifier\n",
    "clf = svm.SVC(kernel='linear') # Linear Kernel\n",
    "\n",
    "# Train the model using the training sets\n",
    "clf.fit(X_train, y_train)\n",
    "\n",
    "# Predict the response for test dataset\n",
    "y_pred = clf.predict(X_test)"
   ]
  },
  {
   "cell_type": "code",
   "execution_count": 45,
   "metadata": {},
   "outputs": [
    {
     "name": "stdout",
     "output_type": "stream",
     "text": [
      "Accuracy: 0.11375\n"
     ]
    }
   ],
   "source": [
    "#Import scikit-learn metrics module for accuracy calculation\n",
    "from sklearn import metrics\n",
    "\n",
    "# Model Accuracy: how often is the classifier correct?\n",
    "print(\"Accuracy:\", metrics.accuracy_score(y_test, y_pred))"
   ]
  },
  {
   "cell_type": "code",
   "execution_count": 47,
   "metadata": {},
   "outputs": [
    {
     "name": "stdout",
     "output_type": "stream",
     "text": [
      "Precision: 0.1047236724147023\n",
      "Recall: 0.11375000000000002\n"
     ]
    }
   ],
   "source": [
    "from sklearn.metrics import precision_score\n",
    "from sklearn.metrics import recall_score\n",
    "\n",
    "# Model Precision: what percentage of positive tuples are labeled as such?\n",
    "print(\"Precision:\", metrics.precision_score(y_test, y_pred, pos_label='positive',average='macro')) \n",
    "           \n",
    "\n",
    "# Model Recall: what percentage of positive tuples are labelled as such?\n",
    "print(\"Recall:\", metrics.recall_score(y_test, y_pred,pos_label='positive',average='macro'))"
   ]
  },
  {
   "cell_type": "code",
   "execution_count": 48,
   "metadata": {},
   "outputs": [],
   "source": [
    "SNR1= Features[3000:4000]\n",
    "SNR2=Features[23000:24000]\n",
    "SNR3=Features[43000:44000]\n",
    "SNR4=Features[63000:64000]\n",
    "SNR5=Features[83000:84000]\n",
    "SNR6=Features[103000:104000]\n",
    "SNR7=Features[123000:124000]\n",
    "SNR8=Features[143000:144000]\n",
    "#SNR9=Features[163000:164000]\n",
    "#SNR10=Features[183000:184000]\n",
    "#SNR11=Features[203000:204000]\n",
    "SNR=np.concatenate((SNR1,SNR2,SNR3,SNR4,SNR5,SNR6,SNR7,SNR8),axis=0)"
   ]
  },
  {
   "cell_type": "code",
   "execution_count": 49,
   "metadata": {},
   "outputs": [],
   "source": [
    "lbl1= s[3000:4000]\n",
    "lbl2=s[23000:24000]\n",
    "lbl3=s[43000:44000]\n",
    "lbl4=s[63000:64000]\n",
    "lbl5=s[83000:84000]\n",
    "lbl6=s[103000:104000]\n",
    "lbl7=s[123000:124000]\n",
    "lbl8=s[143000:144000]\n",
    "#lbl9=lbl[163000:164000]\n",
    "#lbl10=lbl[183000:184000]\n",
    "#lbl11=lbl[203000:204000]\n",
    "lbl=np.concatenate((lbl1,lbl2,lbl3,lbl4,lbl5,lbl6,lbl7,lbl8),axis=0)"
   ]
  },
  {
   "cell_type": "code",
   "execution_count": 50,
   "metadata": {},
   "outputs": [],
   "source": [
    "from sklearn.model_selection import train_test_split\n",
    "\n",
    "#split dataset into train and test data\n",
    "X_train, X_test, y_train, y_test = train_test_split(SNR, lbl, test_size=0.1, random_state=1, stratify=lbl)"
   ]
  },
  {
   "cell_type": "code",
   "execution_count": 51,
   "metadata": {},
   "outputs": [],
   "source": [
    "# Import svm model\n",
    "from sklearn import svm\n",
    "\n",
    "# Create a svm Classifier\n",
    "clf = svm.SVC(kernel='linear') # Linear Kernel\n",
    "\n",
    "# Train the model using the training sets\n",
    "clf.fit(X_train, y_train)\n",
    "\n",
    "# Predict the response for test dataset\n",
    "y_pred = clf.predict(X_test)"
   ]
  },
  {
   "cell_type": "code",
   "execution_count": 52,
   "metadata": {},
   "outputs": [
    {
     "name": "stdout",
     "output_type": "stream",
     "text": [
      "Accuracy: 0.14\n"
     ]
    }
   ],
   "source": [
    "#Import scikit-learn metrics module for accuracy calculation\n",
    "from sklearn import metrics\n",
    "\n",
    "# Model Accuracy: how often is the classifier correct?\n",
    "print(\"Accuracy:\", metrics.accuracy_score(y_test, y_pred))"
   ]
  },
  {
   "cell_type": "code",
   "execution_count": 54,
   "metadata": {},
   "outputs": [
    {
     "name": "stdout",
     "output_type": "stream",
     "text": [
      "Precision: 0.09959823418003565\n",
      "Recall: 0.14\n"
     ]
    }
   ],
   "source": [
    "from sklearn.metrics import precision_score\n",
    "from sklearn.metrics import recall_score\n",
    "\n",
    "# Model Precision: what percentage of positive tuples are labeled as such?\n",
    "print(\"Precision:\", metrics.precision_score(y_test, y_pred, pos_label='positive',average='macro')) \n",
    "           \n",
    "\n",
    "# Model Recall: what percentage of positive tuples are labelled as such?\n",
    "print(\"Recall:\", metrics.recall_score(y_test, y_pred,pos_label='positive',average='macro'))"
   ]
  },
  {
   "cell_type": "code",
   "execution_count": 55,
   "metadata": {},
   "outputs": [],
   "source": [
    "SNR1= Features[4000:5000]\n",
    "SNR2=Features[24000:25000]\n",
    "SNR3=Features[44000:45000]\n",
    "SNR4=Features[64000:65000]\n",
    "SNR5=Features[84000:85000]\n",
    "SNR6=Features[104000:105000]\n",
    "SNR7=Features[124000:125000]\n",
    "SNR8=Features[144000:145000]\n",
    "#SNR9=Features[164000:165000]\n",
    "#SNR10=Features[184000:185000]\n",
    "#SNR11=Features[204000:205000]\n",
    "SNR=np.concatenate((SNR1,SNR2,SNR3,SNR4,SNR5,SNR6,SNR7,SNR8),axis=0)"
   ]
  },
  {
   "cell_type": "code",
   "execution_count": 56,
   "metadata": {},
   "outputs": [],
   "source": [
    "lbl1= s[4000:5000]\n",
    "lbl2=s[24000:25000]\n",
    "lbl3=s[44000:45000]\n",
    "lbl4=s[64000:65000]\n",
    "lbl5=s[84000:85000]\n",
    "lbl6=s[104000:105000]\n",
    "lbl7=s[124000:125000]\n",
    "lbl8=s[144000:145000]\n",
    "#lbl9=s[164000:165000]\n",
    "#lbl10=s[184000:185000]\n",
    "#lbl11=s[204000:205000]\n",
    "lbl=np.concatenate((lbl1,lbl2,lbl3,lbl4,lbl5,lbl6,lbl7,lbl8),axis=0)"
   ]
  },
  {
   "cell_type": "code",
   "execution_count": 57,
   "metadata": {},
   "outputs": [],
   "source": [
    "from sklearn.model_selection import train_test_split\n",
    "\n",
    "#split dataset into train and test data\n",
    "X_train, X_test, y_train, y_test = train_test_split(SNR, lbl, test_size=0.1, random_state=1, stratify=lbl)"
   ]
  },
  {
   "cell_type": "code",
   "execution_count": 58,
   "metadata": {},
   "outputs": [],
   "source": [
    "# Import svm model\n",
    "from sklearn import svm\n",
    "\n",
    "# Create a svm Classifier\n",
    "clf = svm.SVC(kernel='linear') # Linear Kernel\n",
    "\n",
    "# Train the model using the training sets\n",
    "clf.fit(X_train, y_train)\n",
    "\n",
    "# Predict the response for test dataset\n",
    "y_pred = clf.predict(X_test)"
   ]
  },
  {
   "cell_type": "code",
   "execution_count": 59,
   "metadata": {},
   "outputs": [
    {
     "name": "stdout",
     "output_type": "stream",
     "text": [
      "Accuracy: 0.14875\n"
     ]
    }
   ],
   "source": [
    "#Import scikit-learn metrics module for accuracy calculation\n",
    "from sklearn import metrics\n",
    "\n",
    "# Model Accuracy: how often is the classifier correct?\n",
    "print(\"Accuracy:\", metrics.accuracy_score(y_test, y_pred))"
   ]
  },
  {
   "cell_type": "code",
   "execution_count": 61,
   "metadata": {},
   "outputs": [
    {
     "name": "stdout",
     "output_type": "stream",
     "text": [
      "Precision: 0.12776136601717997\n",
      "Recall: 0.14875\n"
     ]
    }
   ],
   "source": [
    "from sklearn.metrics import precision_score\n",
    "from sklearn.metrics import recall_score\n",
    "\n",
    "# Model Precision: what percentage of positive tuples are labeled as such?\n",
    "print(\"Precision:\", metrics.precision_score(y_test, y_pred, pos_label='positive',average='macro')) \n",
    "           \n",
    "\n",
    "# Model Recall: what percentage of positive tuples are labelled as such?\n",
    "print(\"Recall:\", metrics.recall_score(y_test, y_pred,pos_label='positive',average='macro'))"
   ]
  },
  {
   "cell_type": "code",
   "execution_count": 62,
   "metadata": {},
   "outputs": [],
   "source": [
    "SNR1= Features[5000:6000]\n",
    "SNR2=Features[25000:26000]\n",
    "SNR3=Features[45000:46000]\n",
    "SNR4=Features[65000:66000]\n",
    "SNR5=Features[85000:86000]\n",
    "SNR6=Features[105000:106000]\n",
    "SNR7=Features[125000:126000]\n",
    "SNR8=Features[145000:146000]\n",
    "#SNR9=Features[165000:166000]\n",
    "#SNR10=Features[185000:186000]\n",
    "#SNR11=Features[205000:206000]\n",
    "SNR=np.concatenate((SNR1,SNR2,SNR3,SNR4,SNR5,SNR6,SNR7,SNR8),axis=0)"
   ]
  },
  {
   "cell_type": "code",
   "execution_count": 63,
   "metadata": {},
   "outputs": [],
   "source": [
    "lbl1= s[5000:6000]\n",
    "lbl2=s[25000:26000]\n",
    "lbl3=s[45000:46000]\n",
    "lbl4=s[65000:66000]\n",
    "lbl5=s[85000:86000]\n",
    "lbl6=s[105000:106000]\n",
    "lbl7=s[125000:126000]\n",
    "lbl8=s[145000:146000]\n",
    "#lbl9=lbl[165000:166000]\n",
    "#lbl10=lbl[185000:186000]\n",
    "#lbl11=lbl[205000:206000]\n",
    "lbl=np.concatenate((lbl1,lbl2,lbl3,lbl4,lbl5,lbl6,lbl7,lbl8),axis=0)"
   ]
  },
  {
   "cell_type": "code",
   "execution_count": 64,
   "metadata": {},
   "outputs": [],
   "source": [
    "from sklearn.model_selection import train_test_split\n",
    "\n",
    "#split dataset into train and test data\n",
    "X_train, X_test, y_train, y_test = train_test_split(SNR, lbl, test_size=0.1, random_state=1, stratify=lbl)"
   ]
  },
  {
   "cell_type": "code",
   "execution_count": 65,
   "metadata": {},
   "outputs": [],
   "source": [
    "# Import svm model\n",
    "from sklearn import svm\n",
    "\n",
    "# Create a svm Classifier\n",
    "clf = svm.SVC(kernel='linear') # Linear Kernel\n",
    "\n",
    "# Train the model using the training sets\n",
    "clf.fit(X_train, y_train)\n",
    "\n",
    "# Predict the response for test dataset\n",
    "y_pred = clf.predict(X_test)"
   ]
  },
  {
   "cell_type": "code",
   "execution_count": 66,
   "metadata": {},
   "outputs": [
    {
     "name": "stdout",
     "output_type": "stream",
     "text": [
      "Accuracy: 0.15625\n"
     ]
    }
   ],
   "source": [
    "#Import scikit-learn metrics module for accuracy calculation\n",
    "from sklearn import metrics\n",
    "\n",
    "# Model Accuracy: how often is the classifier correct?\n",
    "print(\"Accuracy:\", metrics.accuracy_score(y_test, y_pred))"
   ]
  },
  {
   "cell_type": "code",
   "execution_count": 68,
   "metadata": {},
   "outputs": [
    {
     "name": "stdout",
     "output_type": "stream",
     "text": [
      "Precision: 0.09958946461445589\n",
      "Recall: 0.15625\n"
     ]
    }
   ],
   "source": [
    "from sklearn.metrics import precision_score\n",
    "from sklearn.metrics import recall_score\n",
    "\n",
    "# Model Precision: what percentage of positive tuples are labeled as such?\n",
    "print(\"Precision:\", metrics.precision_score(y_test, y_pred, pos_label='positive',average='macro')) \n",
    "           \n",
    "\n",
    "# Model Recall: what percentage of positive tuples are labelled as such?\n",
    "print(\"Recall:\", metrics.recall_score(y_test, y_pred,pos_label='positive',average='macro'))"
   ]
  },
  {
   "cell_type": "code",
   "execution_count": 69,
   "metadata": {},
   "outputs": [],
   "source": [
    "SNR1= Features[6000:7000]\n",
    "SNR2=Features[26000:27000]\n",
    "SNR3=Features[46000:47000]\n",
    "SNR4=Features[66000:67000]\n",
    "SNR5=Features[86000:87000]\n",
    "SNR6=Features[106000:107000]\n",
    "SNR7=Features[126000:127000]\n",
    "SNR8=Features[146000:147000]\n",
    "#SNR9=Features[166000:167000]\n",
    "#SNR10=Features[186000:187000]\n",
    "#SNR11=Features[206000:207000]\n",
    "SNR=np.concatenate((SNR1,SNR2,SNR3,SNR4,SNR5,SNR6,SNR7,SNR8),axis=0)"
   ]
  },
  {
   "cell_type": "code",
   "execution_count": 70,
   "metadata": {},
   "outputs": [],
   "source": [
    "lbl1= s[6000:7000]\n",
    "lbl2=s[26000:27000]\n",
    "lbl3=s[46000:47000]\n",
    "lbl4=s[66000:67000]\n",
    "lbl5=s[86000:87000]\n",
    "lbl6=s[106000:107000]\n",
    "lbl7=s[126000:127000]\n",
    "lbl8=s[146000:147000]\n",
    "#lbl9=lbl[166000:167000]\n",
    "#lbl10=lbl[186000:187000]\n",
    "#lbl11=lbl[206000:207000]\n",
    "lbl=np.concatenate((lbl1,lbl2,lbl3,lbl4,lbl5,lbl6,lbl7,lbl8),axis=0)"
   ]
  },
  {
   "cell_type": "code",
   "execution_count": 71,
   "metadata": {},
   "outputs": [],
   "source": [
    "from sklearn.model_selection import train_test_split\n",
    "\n",
    "#split dataset into train and test data\n",
    "X_train, X_test, y_train, y_test = train_test_split(SNR, lbl, test_size=0.1, random_state=1, stratify=lbl)"
   ]
  },
  {
   "cell_type": "code",
   "execution_count": 72,
   "metadata": {},
   "outputs": [],
   "source": [
    "# Import svm model\n",
    "from sklearn import svm\n",
    "\n",
    "# Create a svm Classifier\n",
    "clf = svm.SVC(kernel='linear') # Linear Kernel\n",
    "\n",
    "# Train the model using the training sets\n",
    "clf.fit(X_train, y_train)\n",
    "\n",
    "# Predict the response for test dataset\n",
    "y_pred = clf.predict(X_test)"
   ]
  },
  {
   "cell_type": "code",
   "execution_count": 76,
   "metadata": {},
   "outputs": [
    {
     "name": "stdout",
     "output_type": "stream",
     "text": [
      "Accuracy: 0.1725\n"
     ]
    }
   ],
   "source": [
    "#Import scikit-learn metrics module for accuracy calculation\n",
    "from sklearn import metrics\n",
    "\n",
    "# Model Accuracy: how often is the classifier correct?\n",
    "print(\"Accuracy:\", metrics.accuracy_score(y_test, y_pred))"
   ]
  },
  {
   "cell_type": "code",
   "execution_count": 77,
   "metadata": {},
   "outputs": [
    {
     "name": "stdout",
     "output_type": "stream",
     "text": [
      "Precision: 0.24249348237177448\n",
      "Recall: 0.1725\n"
     ]
    }
   ],
   "source": [
    "from sklearn.metrics import precision_score\n",
    "from sklearn.metrics import recall_score\n",
    "\n",
    "# Model Precision: what percentage of positive tuples are labeled as such?\n",
    "print(\"Precision:\", metrics.precision_score(y_test, y_pred, pos_label='positive',average='macro')) \n",
    "           \n",
    "\n",
    "# Model Recall: what percentage of positive tuples are labelled as such?\n",
    "print(\"Recall:\", metrics.recall_score(y_test, y_pred,pos_label='positive',average='macro'))"
   ]
  },
  {
   "cell_type": "code",
   "execution_count": 78,
   "metadata": {},
   "outputs": [],
   "source": [
    "SNR1= Features[7000:8000]\n",
    "SNR2=Features[27000:28000]\n",
    "SNR3=Features[47000:48000]\n",
    "SNR4=Features[67000:68000]\n",
    "SNR5=Features[87000:88000]\n",
    "SNR6=Features[107000:108000]\n",
    "SNR7=Features[127000:128000]\n",
    "SNR8=Features[147000:148000]\n",
    "#SNR9=Features[167000:168000]\n",
    "#SNR10=Features[187000:188000]\n",
    "#SNR11=Features[207000:208000]\n",
    "SNR=np.concatenate((SNR1,SNR2,SNR3,SNR4,SNR5,SNR6,SNR7,SNR8),axis=0)"
   ]
  },
  {
   "cell_type": "code",
   "execution_count": 79,
   "metadata": {},
   "outputs": [],
   "source": [
    "lbl1= s[7000:8000]\n",
    "lbl2=s[27000:28000]\n",
    "lbl3=s[47000:48000]\n",
    "lbl4=s[67000:68000]\n",
    "lbl5=s[87000:88000]\n",
    "lbl6=s[107000:108000]\n",
    "lbl7=s[127000:128000]\n",
    "lbl8=s[147000:148000]\n",
    "#lbl9=lbl[167000:168000]\n",
    "#lbl10=lbl[187000:188000]\n",
    "#lbl11=lbl[207000:208000]\n",
    "lbl=np.concatenate((lbl1,lbl2,lbl3,lbl4,lbl5,lbl6,lbl7,lbl8),axis=0)"
   ]
  },
  {
   "cell_type": "code",
   "execution_count": 80,
   "metadata": {},
   "outputs": [],
   "source": [
    "from sklearn.model_selection import train_test_split\n",
    "\n",
    "#split dataset into train and test data\n",
    "X_train, X_test, y_train, y_test = train_test_split(SNR, lbl, test_size=0.1, random_state=1, stratify=lbl)"
   ]
  },
  {
   "cell_type": "code",
   "execution_count": 81,
   "metadata": {},
   "outputs": [],
   "source": [
    "# Import svm model\n",
    "from sklearn import svm\n",
    "\n",
    "# Create a svm Classifier\n",
    "clf = svm.SVC(kernel='linear') # Linear Kernel\n",
    "\n",
    "# Train the model using the training sets\n",
    "clf.fit(X_train, y_train)\n",
    "\n",
    "# Predict the response for test dataset\n",
    "y_pred = clf.predict(X_test)"
   ]
  },
  {
   "cell_type": "code",
   "execution_count": 82,
   "metadata": {},
   "outputs": [
    {
     "name": "stdout",
     "output_type": "stream",
     "text": [
      "Accuracy: 0.2125\n"
     ]
    }
   ],
   "source": [
    "#Import scikit-learn metrics module for accuracy calculation\n",
    "from sklearn import metrics\n",
    "\n",
    "# Model Accuracy: how often is the classifier correct?\n",
    "print(\"Accuracy:\", metrics.accuracy_score(y_test, y_pred))"
   ]
  },
  {
   "cell_type": "code",
   "execution_count": 84,
   "metadata": {},
   "outputs": [
    {
     "name": "stdout",
     "output_type": "stream",
     "text": [
      "Precision: 0.20479937923881308\n",
      "Recall: 0.2125\n"
     ]
    }
   ],
   "source": [
    "from sklearn.metrics import precision_score\n",
    "from sklearn.metrics import recall_score\n",
    "\n",
    "# Model Precision: what percentage of positive tuples are labeled as such?\n",
    "print(\"Precision:\", metrics.precision_score(y_test, y_pred, pos_label='positive',average='macro')) \n",
    "           \n",
    "\n",
    "# Model Recall: what percentage of positive tuples are labelled as such?\n",
    "print(\"Recall:\", metrics.recall_score(y_test, y_pred,pos_label='positive',average='macro'))"
   ]
  },
  {
   "cell_type": "code",
   "execution_count": 85,
   "metadata": {},
   "outputs": [],
   "source": [
    "SNR1= Features[8000:9000]\n",
    "SNR2=Features[28000:29000]\n",
    "SNR3=Features[48000:49000]\n",
    "SNR4=Features[68000:69000]\n",
    "SNR5=Features[88000:89000]\n",
    "SNR6=Features[108000:109000]\n",
    "SNR7=Features[128000:129000]\n",
    "SNR8=Features[148000:149000]\n",
    "#SNR9=Features[168000:169000]\n",
    "#SNR10=Features[188000:189000]\n",
    "#SNR11=Features[208000:209000]\n",
    "SNR=np.concatenate((SNR1,SNR2,SNR3,SNR4,SNR5,SNR6,SNR7,SNR8),axis=0)"
   ]
  },
  {
   "cell_type": "code",
   "execution_count": 86,
   "metadata": {},
   "outputs": [],
   "source": [
    "lbl1= s[8000:9000]\n",
    "lbl2=s[28000:29000]\n",
    "lbl3=s[48000:49000]\n",
    "lbl4=s[68000:69000]\n",
    "lbl5=s[88000:89000]\n",
    "lbl6=s[108000:109000]\n",
    "lbl7=s[128000:129000]\n",
    "lbl8=s[148000:149000]\n",
    "#lbl9=lbl[168000:169000]\n",
    "#lbl10=lbl[188000:189000]\n",
    "#lbl11=lbl[208000:209000]\n",
    "lbl=np.concatenate((lbl1,lbl2,lbl3,lbl4,lbl5,lbl6,lbl7,lbl8),axis=0)"
   ]
  },
  {
   "cell_type": "code",
   "execution_count": 87,
   "metadata": {},
   "outputs": [],
   "source": [
    "from sklearn.model_selection import train_test_split\n",
    "\n",
    "#split dataset into train and test data\n",
    "X_train, X_test, y_train, y_test = train_test_split(SNR, lbl, test_size=0.1, random_state=1, stratify=lbl)"
   ]
  },
  {
   "cell_type": "code",
   "execution_count": 88,
   "metadata": {},
   "outputs": [],
   "source": [
    "# Import svm model\n",
    "from sklearn import svm\n",
    "\n",
    "# Create a svm Classifier\n",
    "clf = svm.SVC(kernel='linear') # Linear Kernel\n",
    "\n",
    "# Train the model using the training sets\n",
    "clf.fit(X_train, y_train)\n",
    "\n",
    "# Predict the response for test dataset\n",
    "y_pred = clf.predict(X_test)"
   ]
  },
  {
   "cell_type": "code",
   "execution_count": 89,
   "metadata": {},
   "outputs": [
    {
     "name": "stdout",
     "output_type": "stream",
     "text": [
      "Accuracy: 0.27125\n"
     ]
    }
   ],
   "source": [
    "#Import scikit-learn metrics module for accuracy calculation\n",
    "from sklearn import metrics\n",
    "\n",
    "# Model Accuracy: how often is the classifier correct?\n",
    "print(\"Accuracy:\", metrics.accuracy_score(y_test, y_pred))"
   ]
  },
  {
   "cell_type": "code",
   "execution_count": 91,
   "metadata": {},
   "outputs": [
    {
     "name": "stdout",
     "output_type": "stream",
     "text": [
      "Precision: 0.2533838954532305\n",
      "Recall: 0.27125\n"
     ]
    }
   ],
   "source": [
    "from sklearn.metrics import precision_score\n",
    "from sklearn.metrics import recall_score\n",
    "\n",
    "# Model Precision: what percentage of positive tuples are labeled as such?\n",
    "print(\"Precision:\", metrics.precision_score(y_test, y_pred, pos_label='positive',average='macro')) \n",
    "           \n",
    "\n",
    "# Model Recall: what percentage of positive tuples are labelled as such?\n",
    "print(\"Recall:\", metrics.recall_score(y_test, y_pred,pos_label='positive',average='macro'))"
   ]
  },
  {
   "cell_type": "code",
   "execution_count": 92,
   "metadata": {},
   "outputs": [],
   "source": [
    "SNR1= Features[9000:10000]\n",
    "SNR2=Features[29000:30000]\n",
    "SNR3=Features[49000:50000]\n",
    "SNR4=Features[69000:70000]\n",
    "SNR5=Features[89000:90000]\n",
    "SNR6=Features[109000:110000]\n",
    "SNR7=Features[129000:130000]\n",
    "SNR8=Features[149000:150000]\n",
    "#SNR9=Features[169000:170000]\n",
    "#SNR10=Features[189000:190000]\n",
    "#SNR11=Features[209000:210000]\n",
    "SNR=np.concatenate((SNR1,SNR2,SNR3,SNR4,SNR5,SNR6,SNR7,SNR8),axis=0)"
   ]
  },
  {
   "cell_type": "code",
   "execution_count": 93,
   "metadata": {},
   "outputs": [],
   "source": [
    "lbl1= s[9000:10000]\n",
    "lbl2=s[29000:30000]\n",
    "lbl3=s[49000:50000]\n",
    "lbl4=s[69000:70000]\n",
    "lbl5=s[89000:90000]\n",
    "lbl6=s[109000:110000]\n",
    "lbl7=s[129000:130000]\n",
    "lbl8=s[149000:150000]\n",
    "#lbl9=lbl[169000:170000]\n",
    "#lbl10=lbl[189000:190000]\n",
    "#lbl11=lbl[209000:210000]\n",
    "lbl=np.concatenate((lbl1,lbl2,lbl3,lbl4,lbl5,lbl6,lbl7,lbl8),axis=0)"
   ]
  },
  {
   "cell_type": "code",
   "execution_count": 94,
   "metadata": {},
   "outputs": [],
   "source": [
    "from sklearn.model_selection import train_test_split\n",
    "\n",
    "#split dataset into train and test data\n",
    "X_train, X_test, y_train, y_test = train_test_split(SNR, lbl, test_size=0.1, random_state=1, stratify=lbl)"
   ]
  },
  {
   "cell_type": "code",
   "execution_count": 95,
   "metadata": {},
   "outputs": [],
   "source": [
    "# Import svm model\n",
    "from sklearn import svm\n",
    "\n",
    "# Create a svm Classifier\n",
    "clf = svm.SVC(kernel='linear') # Linear Kernel\n",
    "\n",
    "# Train the model using the training sets\n",
    "clf.fit(X_train, y_train)\n",
    "\n",
    "# Predict the response for test dataset\n",
    "y_pred = clf.predict(X_test)"
   ]
  },
  {
   "cell_type": "code",
   "execution_count": 96,
   "metadata": {},
   "outputs": [
    {
     "name": "stdout",
     "output_type": "stream",
     "text": [
      "Accuracy: 0.345\n"
     ]
    }
   ],
   "source": [
    "#Import scikit-learn metrics module for accuracy calculation\n",
    "from sklearn import metrics\n",
    "\n",
    "# Model Accuracy: how often is the classifier correct?\n",
    "print(\"Accuracy:\", metrics.accuracy_score(y_test, y_pred))"
   ]
  },
  {
   "cell_type": "code",
   "execution_count": 98,
   "metadata": {},
   "outputs": [
    {
     "name": "stdout",
     "output_type": "stream",
     "text": [
      "Precision: 0.34104664526121925\n",
      "Recall: 0.345\n"
     ]
    }
   ],
   "source": [
    "from sklearn.metrics import precision_score\n",
    "from sklearn.metrics import recall_score\n",
    "\n",
    "# Model Precision: what percentage of positive tuples are labeled as such?\n",
    "print(\"Precision:\", metrics.precision_score(y_test, y_pred, pos_label='positive',average='macro')) \n",
    "           \n",
    "\n",
    "# Model Recall: what percentage of positive tuples are labelled as such?\n",
    "print(\"Recall:\", metrics.recall_score(y_test, y_pred,pos_label='positive',average='macro'))"
   ]
  },
  {
   "cell_type": "code",
   "execution_count": 99,
   "metadata": {},
   "outputs": [],
   "source": [
    "SNR1= Features[10000:11000]\n",
    "SNR2=Features[30000:31000]\n",
    "SNR3=Features[50000:51000]\n",
    "SNR4=Features[70000:71000]\n",
    "SNR5=Features[90000:91000]\n",
    "SNR6=Features[110000:111000]\n",
    "SNR7=Features[130000:131000]\n",
    "SNR8=Features[150000:151000]\n",
    "#SNR9=Features[170000:171000]\n",
    "#SNR10=Features[190000:191000]\n",
    "#SNR11=Features[210000:211000]\n",
    "SNR=np.concatenate((SNR1,SNR2,SNR3,SNR4,SNR5,SNR6,SNR7,SNR8),axis=0)"
   ]
  },
  {
   "cell_type": "code",
   "execution_count": 100,
   "metadata": {},
   "outputs": [],
   "source": [
    "lbl1= s[10000:11000]\n",
    "lbl2=s[30000:31000]\n",
    "lbl3=s[50000:51000]\n",
    "lbl4=s[70000:71000]\n",
    "lbl5=s[90000:91000]\n",
    "lbl6=s[110000:111000]\n",
    "lbl7=s[130000:131000]\n",
    "lbl8=s[150000:151000]\n",
    "#lbl9=lbl[170000:171000]\n",
    "#lbl10=lbl[190000:191000]\n",
    "#lbl11=lbl[210000:211000]\n",
    "lbl=np.concatenate((lbl1,lbl2,lbl3,lbl4,lbl5,lbl6,lbl7,lbl8),axis=0)"
   ]
  },
  {
   "cell_type": "code",
   "execution_count": 101,
   "metadata": {},
   "outputs": [],
   "source": [
    "from sklearn.model_selection import train_test_split\n",
    "\n",
    "#split dataset into train and test data\n",
    "X_train, X_test, y_train, y_test = train_test_split(SNR, lbl, test_size=0.1, random_state=1, stratify=lbl)"
   ]
  },
  {
   "cell_type": "code",
   "execution_count": 102,
   "metadata": {},
   "outputs": [],
   "source": [
    "# Import svm model\n",
    "from sklearn import svm\n",
    "\n",
    "# Create a svm Classifier\n",
    "clf = svm.SVC(kernel='linear') # Linear Kernel\n",
    "\n",
    "# Train the model using the training sets\n",
    "clf.fit(X_train, y_train)\n",
    "\n",
    "# Predict the response for test dataset\n",
    "y_pred = clf.predict(X_test)"
   ]
  },
  {
   "cell_type": "code",
   "execution_count": 103,
   "metadata": {},
   "outputs": [
    {
     "name": "stdout",
     "output_type": "stream",
     "text": [
      "Accuracy: 0.31125\n"
     ]
    }
   ],
   "source": [
    "#Import scikit-learn metrics module for accuracy calculation\n",
    "from sklearn import metrics\n",
    "\n",
    "# Model Accuracy: how often is the classifier correct?\n",
    "print(\"Accuracy:\", metrics.accuracy_score(y_test, y_pred))"
   ]
  },
  {
   "cell_type": "code",
   "execution_count": 105,
   "metadata": {},
   "outputs": [
    {
     "name": "stdout",
     "output_type": "stream",
     "text": [
      "Precision: 0.3060073615865644\n",
      "Recall: 0.31125\n"
     ]
    }
   ],
   "source": [
    "from sklearn.metrics import precision_score\n",
    "from sklearn.metrics import recall_score\n",
    "\n",
    "# Model Precision: what percentage of positive tuples are labeled as such?\n",
    "print(\"Precision:\", metrics.precision_score(y_test, y_pred, pos_label='positive',average='macro')) \n",
    "           \n",
    "\n",
    "# Model Recall: what percentage of positive tuples are labelled as such?\n",
    "print(\"Recall:\", metrics.recall_score(y_test, y_pred,pos_label='positive',average='macro'))"
   ]
  },
  {
   "cell_type": "code",
   "execution_count": 106,
   "metadata": {},
   "outputs": [],
   "source": [
    "SNR1= Features[11000:12000]\n",
    "SNR2=Features[31000:32000]\n",
    "SNR3=Features[51000:52000]\n",
    "SNR4=Features[71000:72000]\n",
    "SNR5=Features[91000:92000]\n",
    "SNR6=Features[111000:112000]\n",
    "SNR7=Features[131000:132000]\n",
    "SNR8=Features[151000:152000]\n",
    "#SNR9=Features[171000:172000]\n",
    "#SNR10=Features[191000:192000]\n",
    "#SNR11=Features[211000:212000]\n",
    "SNR=np.concatenate((SNR1,SNR2,SNR3,SNR4,SNR5,SNR6,SNR7,SNR8),axis=0)"
   ]
  },
  {
   "cell_type": "code",
   "execution_count": 107,
   "metadata": {},
   "outputs": [],
   "source": [
    "lbl1= s[11000:12000]\n",
    "lbl2=s[31000:32000]\n",
    "lbl3=s[51000:52000]\n",
    "lbl4=s[71000:72000]\n",
    "lbl5=s[91000:92000]\n",
    "lbl6=s[111000:112000]\n",
    "lbl7=s[131000:132000]\n",
    "lbl8=s[151000:152000]\n",
    "#lbl9=lbl[171000:172000]\n",
    "#lbl10=lbl[191000:192000]\n",
    "#lbl11=lbl[211000:212000]\n",
    "lbl=np.concatenate((lbl1,lbl2,lbl3,lbl4,lbl5,lbl6,lbl7,lbl8),axis=0)"
   ]
  },
  {
   "cell_type": "code",
   "execution_count": 108,
   "metadata": {},
   "outputs": [],
   "source": [
    "from sklearn.model_selection import train_test_split\n",
    "\n",
    "#split dataset into train and test data\n",
    "X_train, X_test, y_train, y_test = train_test_split(SNR, lbl, test_size=0.1, random_state=1, stratify=lbl)"
   ]
  },
  {
   "cell_type": "code",
   "execution_count": 109,
   "metadata": {},
   "outputs": [],
   "source": [
    "# Import svm model\n",
    "from sklearn import svm\n",
    "\n",
    "# Create a svm Classifier\n",
    "clf = svm.SVC(kernel='linear') # Linear Kernel\n",
    "\n",
    "# Train the model using the training sets\n",
    "clf.fit(X_train, y_train)\n",
    "\n",
    "# Predict the response for test dataset\n",
    "y_pred = clf.predict(X_test)"
   ]
  },
  {
   "cell_type": "code",
   "execution_count": 110,
   "metadata": {},
   "outputs": [
    {
     "name": "stdout",
     "output_type": "stream",
     "text": [
      "Accuracy: 0.3925\n"
     ]
    }
   ],
   "source": [
    "#Import scikit-learn metrics module for accuracy calculation\n",
    "from sklearn import metrics\n",
    "\n",
    "# Model Accuracy: how often is the classifier correct?\n",
    "print(\"Accuracy:\", metrics.accuracy_score(y_test, y_pred))"
   ]
  },
  {
   "cell_type": "code",
   "execution_count": 112,
   "metadata": {},
   "outputs": [
    {
     "name": "stdout",
     "output_type": "stream",
     "text": [
      "Precision: 0.3945919928062792\n",
      "Recall: 0.3925\n"
     ]
    }
   ],
   "source": [
    "from sklearn.metrics import precision_score\n",
    "from sklearn.metrics import recall_score\n",
    "\n",
    "# Model Precision: what percentage of positive tuples are labeled as such?\n",
    "print(\"Precision:\", metrics.precision_score(y_test, y_pred, pos_label='positive',average='macro')) \n",
    "           \n",
    "\n",
    "# Model Recall: what percentage of positive tuples are labelled as such?\n",
    "print(\"Recall:\", metrics.recall_score(y_test, y_pred,pos_label='positive',average='macro'))"
   ]
  },
  {
   "cell_type": "code",
   "execution_count": 113,
   "metadata": {},
   "outputs": [],
   "source": [
    "SNR1= Features[12000:13000]\n",
    "SNR2=Features[32000:33000]\n",
    "SNR3=Features[52000:53000]\n",
    "SNR4=Features[72000:73000]\n",
    "SNR5=Features[92000:93000]\n",
    "SNR6=Features[112000:113000]\n",
    "SNR7=Features[132000:133000]\n",
    "SNR8=Features[152000:153000]\n",
    "#SNR9=Features[172000:173000]\n",
    "#SNR10=Features[192000:193000]\n",
    "#SNR11=Features[212000:213000]\n",
    "SNR=np.concatenate((SNR1,SNR2,SNR3,SNR4,SNR5,SNR6,SNR7,SNR8),axis=0)"
   ]
  },
  {
   "cell_type": "code",
   "execution_count": 114,
   "metadata": {},
   "outputs": [],
   "source": [
    "lbl1= s[12000:13000]\n",
    "lbl2=s[32000:33000]\n",
    "lbl3=s[52000:53000]\n",
    "lbl4=s[72000:73000]\n",
    "lbl5=s[92000:93000]\n",
    "lbl6=s[112000:113000]\n",
    "lbl7=s[132000:133000]\n",
    "lbl8=s[152000:153000]\n",
    "#lbl9=lbl[172000:173000]\n",
    "#lbl10=lbl[192000:193000]\n",
    "#lbl11=lbl[212000:213000]\n",
    "lbl=np.concatenate((lbl1,lbl2,lbl3,lbl4,lbl5,lbl6,lbl7,lbl8),axis=0)"
   ]
  },
  {
   "cell_type": "code",
   "execution_count": 115,
   "metadata": {},
   "outputs": [],
   "source": [
    "from sklearn.model_selection import train_test_split\n",
    "\n",
    "#split dataset into train and test data\n",
    "X_train, X_test, y_train, y_test = train_test_split(SNR, lbl, test_size=0.1, random_state=1, stratify=lbl)"
   ]
  },
  {
   "cell_type": "code",
   "execution_count": 116,
   "metadata": {},
   "outputs": [],
   "source": [
    "# Import svm model\n",
    "from sklearn import svm\n",
    "\n",
    "# Create a svm Classifier\n",
    "clf = svm.SVC(kernel='linear') # Linear Kernel\n",
    "\n",
    "# Train the model using the training sets\n",
    "clf.fit(X_train, y_train)\n",
    "\n",
    "# Predict the response for test dataset\n",
    "y_pred = clf.predict(X_test)"
   ]
  },
  {
   "cell_type": "code",
   "execution_count": 117,
   "metadata": {},
   "outputs": [
    {
     "name": "stdout",
     "output_type": "stream",
     "text": [
      "Accuracy: 0.4375\n"
     ]
    }
   ],
   "source": [
    "#Import scikit-learn metrics module for accuracy calculation\n",
    "from sklearn import metrics\n",
    "\n",
    "# Model Accuracy: how often is the classifier correct?\n",
    "print(\"Accuracy:\", metrics.accuracy_score(y_test, y_pred))"
   ]
  },
  {
   "cell_type": "code",
   "execution_count": 119,
   "metadata": {},
   "outputs": [
    {
     "name": "stdout",
     "output_type": "stream",
     "text": [
      "Precision: 0.441607614399685\n",
      "Recall: 0.43749999999999994\n"
     ]
    }
   ],
   "source": [
    "from sklearn.metrics import precision_score\n",
    "from sklearn.metrics import recall_score\n",
    "\n",
    "# Model Precision: what percentage of positive tuples are labeled as such?\n",
    "print(\"Precision:\", metrics.precision_score(y_test, y_pred, pos_label='positive',average='macro')) \n",
    "           \n",
    "\n",
    "# Model Recall: what percentage of positive tuples are labelled as such?\n",
    "print(\"Recall:\", metrics.recall_score(y_test, y_pred,pos_label='positive',average='macro'))"
   ]
  },
  {
   "cell_type": "code",
   "execution_count": 120,
   "metadata": {},
   "outputs": [],
   "source": [
    "SNR1= Features[13000:14000]\n",
    "SNR2=Features[33000:34000]\n",
    "SNR3=Features[53000:54000]\n",
    "SNR4=Features[73000:74000]\n",
    "SNR5=Features[93000:94000]\n",
    "SNR6=Features[113000:114000]\n",
    "SNR7=Features[133000:134000]\n",
    "SNR8=Features[153000:154000]\n",
    "#SNR9=Features[173000:174000]\n",
    "#SNR10=Features[193000:194000]\n",
    "#SNR11=Features[213000:214000]\n",
    "SNR=np.concatenate((SNR1,SNR2,SNR3,SNR4,SNR5,SNR6,SNR7,SNR8),axis=0)"
   ]
  },
  {
   "cell_type": "code",
   "execution_count": 121,
   "metadata": {},
   "outputs": [],
   "source": [
    "lbl1= s[13000:14000]\n",
    "lbl2=s[33000:34000]\n",
    "lbl3=s[53000:54000]\n",
    "lbl4=s[73000:74000]\n",
    "lbl5=s[93000:94000]\n",
    "lbl6=s[113000:114000]\n",
    "lbl7=s[133000:134000]\n",
    "lbl8=s[153000:154000]\n",
    "#lbl9=lbl[173000:174000]\n",
    "#lbl10=lbl[193000:194000]\n",
    "#lbl11=lbl[213000:214000]\n",
    "lbl=np.concatenate((lbl1,lbl2,lbl3,lbl4,lbl5,lbl6,lbl7,lbl8),axis=0)"
   ]
  },
  {
   "cell_type": "code",
   "execution_count": 122,
   "metadata": {},
   "outputs": [],
   "source": [
    "from sklearn.model_selection import train_test_split\n",
    "\n",
    "#split dataset into train and test data\n",
    "X_train, X_test, y_train, y_test = train_test_split(SNR, lbl, test_size=0.1, random_state=1, stratify=lbl)"
   ]
  },
  {
   "cell_type": "code",
   "execution_count": 126,
   "metadata": {},
   "outputs": [],
   "source": [
    "# Import svm model\n",
    "from sklearn import svm\n",
    "\n",
    "# Create a svm Classifier\n",
    "clf = svm.SVC(kernel='linear') # Linear Kernel\n",
    "\n",
    "# Train the model using the training sets\n",
    "clf.fit(X_train, y_train)\n",
    "\n",
    "# Predict the response for test dataset\n",
    "y_pred = clf.predict(X_test)"
   ]
  },
  {
   "cell_type": "code",
   "execution_count": 127,
   "metadata": {},
   "outputs": [
    {
     "name": "stdout",
     "output_type": "stream",
     "text": [
      "Accuracy: 0.475\n"
     ]
    }
   ],
   "source": [
    "#Import scikit-learn metrics module for accuracy calculation\n",
    "from sklearn import metrics\n",
    "\n",
    "# Model Accuracy: how often is the classifier correct?\n",
    "print(\"Accuracy:\", metrics.accuracy_score(y_test, y_pred))"
   ]
  },
  {
   "cell_type": "code",
   "execution_count": 129,
   "metadata": {},
   "outputs": [
    {
     "name": "stdout",
     "output_type": "stream",
     "text": [
      "Precision: 0.4814313170448335\n",
      "Recall: 0.475\n"
     ]
    }
   ],
   "source": [
    "from sklearn.metrics import precision_score\n",
    "from sklearn.metrics import recall_score\n",
    "\n",
    "# Model Precision: what percentage of positive tuples are labeled as such?\n",
    "print(\"Precision:\", metrics.precision_score(y_test, y_pred, pos_label='positive',average='macro')) \n",
    "           \n",
    "\n",
    "# Model Recall: what percentage of positive tuples are labelled as such?\n",
    "print(\"Recall:\", metrics.recall_score(y_test, y_pred,pos_label='positive',average='macro'))"
   ]
  },
  {
   "cell_type": "code",
   "execution_count": 130,
   "metadata": {},
   "outputs": [],
   "source": [
    "SNR1= Features[14000:15000]\n",
    "SNR2=Features[34000:35000]\n",
    "SNR3=Features[54000:55000]\n",
    "SNR4=Features[74000:75000]\n",
    "SNR5=Features[94000:95000]\n",
    "SNR6=Features[114000:115000]\n",
    "SNR7=Features[134000:135000]\n",
    "SNR8=Features[154000:155000]\n",
    "#SNR9=Features[174000:175000]\n",
    "#SNR10=Features[194000:195000]\n",
    "#SNR11=Features[214000:215000]\n",
    "SNR=np.concatenate((SNR1,SNR2,SNR3,SNR4,SNR5,SNR6,SNR7,SNR8),axis=0)"
   ]
  },
  {
   "cell_type": "code",
   "execution_count": 131,
   "metadata": {},
   "outputs": [],
   "source": [
    "lbl1= s[14000:15000]\n",
    "lbl2=s[34000:35000]\n",
    "lbl3=s[54000:55000]\n",
    "lbl4=s[74000:75000]\n",
    "lbl5=s[94000:95000]\n",
    "lbl6=s[114000:115000]\n",
    "lbl7=s[134000:135000]\n",
    "lbl8=s[154000:155000]\n",
    "#lbl9=s[174000:175000]\n",
    "#lbl10=s[194000:195000]\n",
    "#lbl11=s[214000:215000]\n",
    "lbl=np.concatenate((lbl1,lbl2,lbl3,lbl4,lbl5,lbl6,lbl7,lbl8),axis=0)"
   ]
  },
  {
   "cell_type": "code",
   "execution_count": 132,
   "metadata": {},
   "outputs": [],
   "source": [
    "from sklearn.model_selection import train_test_split\n",
    "\n",
    "#split dataset into train and test data\n",
    "X_train, X_test, y_train, y_test = train_test_split(SNR, lbl, test_size=0.1, random_state=1, stratify=lbl)"
   ]
  },
  {
   "cell_type": "code",
   "execution_count": 133,
   "metadata": {},
   "outputs": [],
   "source": [
    "# Import svm model\n",
    "from sklearn import svm\n",
    "\n",
    "# Create a svm Classifier\n",
    "clf = svm.SVC(kernel='linear') # Linear Kernel\n",
    "\n",
    "# Train the model using the training sets\n",
    "clf.fit(X_train, y_train)\n",
    "\n",
    "# Predict the response for test dataset\n",
    "y_pred = clf.predict(X_test)"
   ]
  },
  {
   "cell_type": "code",
   "execution_count": 134,
   "metadata": {},
   "outputs": [
    {
     "name": "stdout",
     "output_type": "stream",
     "text": [
      "Accuracy: 0.4825\n"
     ]
    }
   ],
   "source": [
    "#Import scikit-learn metrics module for accuracy calculation\n",
    "from sklearn import metrics\n",
    "\n",
    "# Model Accuracy: how often is the classifier correct?\n",
    "print(\"Accuracy:\", metrics.accuracy_score(y_test, y_pred))"
   ]
  },
  {
   "cell_type": "code",
   "execution_count": 136,
   "metadata": {},
   "outputs": [
    {
     "name": "stdout",
     "output_type": "stream",
     "text": [
      "Precision: 0.5026938083905682\n",
      "Recall: 0.48250000000000004\n"
     ]
    }
   ],
   "source": [
    "from sklearn.metrics import precision_score\n",
    "from sklearn.metrics import recall_score\n",
    "\n",
    "# Model Precision: what percentage of positive tuples are labeled as such?\n",
    "print(\"Precision:\", metrics.precision_score(y_test, y_pred, pos_label='positive',average='macro')) \n",
    "           \n",
    "\n",
    "# Model Recall: what percentage of positive tuples are labelled as such?\n",
    "print(\"Recall:\", metrics.recall_score(y_test, y_pred,pos_label='positive',average='macro'))"
   ]
  },
  {
   "cell_type": "code",
   "execution_count": 137,
   "metadata": {},
   "outputs": [],
   "source": [
    "SNR1= Features[15000:16000]\n",
    "SNR2=Features[35000:36000]\n",
    "SNR3=Features[55000:56000]\n",
    "SNR4=Features[75000:76000]\n",
    "SNR5=Features[95000:96000]\n",
    "SNR6=Features[115000:116000]\n",
    "SNR7=Features[135000:136000]\n",
    "SNR8=Features[155000:156000]\n",
    "#SNR9=Features[175000:176000]\n",
    "#SNR10=Features[195000:196000]\n",
    "#SNR11=Features[215000:216000]\n",
    "SNR=np.concatenate((SNR1,SNR2,SNR3,SNR4,SNR5,SNR6,SNR7,SNR8),axis=0)"
   ]
  },
  {
   "cell_type": "code",
   "execution_count": 138,
   "metadata": {},
   "outputs": [],
   "source": [
    "lbl1= s[15000:16000]\n",
    "lbl2=s[35000:36000]\n",
    "lbl3=s[55000:56000]\n",
    "lbl4=s[75000:76000]\n",
    "lbl5=s[95000:96000]\n",
    "lbl6=s[115000:116000]\n",
    "lbl7=s[135000:136000]\n",
    "lbl8=s[155000:156000]\n",
    "#lbl9=lbl[175000:176000]\n",
    "#lbl10=lbl[195000:196000]\n",
    "#lbl11=lbl[215000:216000]\n",
    "lbl=np.concatenate((lbl1,lbl2,lbl3,lbl4,lbl5,lbl6,lbl7,lbl8),axis=0)"
   ]
  },
  {
   "cell_type": "code",
   "execution_count": 139,
   "metadata": {},
   "outputs": [],
   "source": [
    "from sklearn.model_selection import train_test_split\n",
    "\n",
    "#split dataset into train and test data\n",
    "X_train, X_test, y_train, y_test = train_test_split(SNR, lbl, test_size=0.1, random_state=1, stratify=lbl)"
   ]
  },
  {
   "cell_type": "code",
   "execution_count": 140,
   "metadata": {},
   "outputs": [],
   "source": [
    "# Import svm model\n",
    "from sklearn import svm\n",
    "\n",
    "# Create a svm Classifier\n",
    "clf = svm.SVC(kernel='linear') # Linear Kernel\n",
    "\n",
    "# Train the model using the training sets\n",
    "clf.fit(X_train, y_train)\n",
    "\n",
    "# Predict the response for test dataset\n",
    "y_pred = clf.predict(X_test)"
   ]
  },
  {
   "cell_type": "code",
   "execution_count": 141,
   "metadata": {},
   "outputs": [
    {
     "name": "stdout",
     "output_type": "stream",
     "text": [
      "Accuracy: 0.47625\n"
     ]
    }
   ],
   "source": [
    "#Import scikit-learn metrics module for accuracy calculation\n",
    "from sklearn import metrics\n",
    "\n",
    "# Model Accuracy: how often is the classifier correct?\n",
    "print(\"Accuracy:\", metrics.accuracy_score(y_test, y_pred))"
   ]
  },
  {
   "cell_type": "code",
   "execution_count": 143,
   "metadata": {},
   "outputs": [
    {
     "name": "stdout",
     "output_type": "stream",
     "text": [
      "Precision: 0.4830422035751142\n",
      "Recall: 0.47625\n"
     ]
    }
   ],
   "source": [
    "from sklearn.metrics import precision_score\n",
    "from sklearn.metrics import recall_score\n",
    "\n",
    "# Model Precision: what percentage of positive tuples are labeled as such?\n",
    "print(\"Precision:\", metrics.precision_score(y_test, y_pred, pos_label='positive',average='macro')) \n",
    "           \n",
    "\n",
    "# Model Recall: what percentage of positive tuples are labelled as such?\n",
    "print(\"Recall:\", metrics.recall_score(y_test, y_pred,pos_label='positive',average='macro'))"
   ]
  },
  {
   "cell_type": "code",
   "execution_count": 144,
   "metadata": {},
   "outputs": [],
   "source": [
    "SNR1= Features[16000:17000]\n",
    "SNR2=Features[36000:37000]\n",
    "SNR3=Features[56000:57000]\n",
    "SNR4=Features[76000:77000]\n",
    "SNR5=Features[96000:97000]\n",
    "SNR6=Features[116000:117000]\n",
    "SNR7=Features[136000:137000]\n",
    "SNR8=Features[156000:157000]\n",
    "#SNR9=Features[176000:177000]\n",
    "#SNR10=Features[196000:197000]\n",
    "#SNR11=Features[216000:217000]\n",
    "SNR=np.concatenate((SNR1,SNR2,SNR3,SNR4,SNR5,SNR6,SNR7,SNR8),axis=0)"
   ]
  },
  {
   "cell_type": "code",
   "execution_count": 145,
   "metadata": {},
   "outputs": [],
   "source": [
    "lbl1=s[16000:17000]\n",
    "lbl2=s[36000:37000]\n",
    "lbl3=s[56000:57000]\n",
    "lbl4=s[76000:77000]\n",
    "lbl5=s[96000:97000]\n",
    "lbl6=s[116000:117000]\n",
    "lbl7=s[136000:137000]\n",
    "lbl8=s[156000:157000]\n",
    "#lbl9=lbl[176000:177000]\n",
    "#lbl10=lbl[196000:197000]\n",
    "#lbl11=lbl[216000:217000]\n",
    "lbl=np.concatenate((lbl1,lbl2,lbl3,lbl4,lbl5,lbl6,lbl7,lbl8),axis=0)"
   ]
  },
  {
   "cell_type": "code",
   "execution_count": 146,
   "metadata": {},
   "outputs": [],
   "source": [
    "from sklearn.model_selection import train_test_split\n",
    "\n",
    "#split dataset into train and test data\n",
    "X_train, X_test, y_train, y_test = train_test_split(SNR, lbl, test_size=0.1, random_state=1, stratify=lbl)"
   ]
  },
  {
   "cell_type": "code",
   "execution_count": 147,
   "metadata": {},
   "outputs": [],
   "source": [
    "# Import svm model\n",
    "from sklearn import svm\n",
    "\n",
    "# Create a svm Classifier\n",
    "clf = svm.SVC(kernel='linear') # Linear Kernel\n",
    "\n",
    "# Train the model using the training sets\n",
    "clf.fit(X_train, y_train)\n",
    "\n",
    "# Predict the response for test dataset\n",
    "y_pred = clf.predict(X_test)"
   ]
  },
  {
   "cell_type": "code",
   "execution_count": 148,
   "metadata": {},
   "outputs": [
    {
     "name": "stdout",
     "output_type": "stream",
     "text": [
      "Accuracy: 0.4825\n"
     ]
    }
   ],
   "source": [
    "#Import scikit-learn metrics module for accuracy calculation\n",
    "from sklearn import metrics\n",
    "\n",
    "# Model Accuracy: how often is the classifier correct?\n",
    "print(\"Accuracy:\", metrics.accuracy_score(y_test, y_pred))"
   ]
  },
  {
   "cell_type": "code",
   "execution_count": 150,
   "metadata": {},
   "outputs": [
    {
     "name": "stdout",
     "output_type": "stream",
     "text": [
      "Precision: 0.49710381034092754\n",
      "Recall: 0.48250000000000004\n"
     ]
    }
   ],
   "source": [
    "from sklearn.metrics import precision_score\n",
    "from sklearn.metrics import recall_score\n",
    "\n",
    "# Model Precision: what percentage of positive tuples are labeled as such?\n",
    "print(\"Precision:\", metrics.precision_score(y_test, y_pred, pos_label='positive',average='macro')) \n",
    "           \n",
    "\n",
    "# Model Recall: what percentage of positive tuples are labelled as such?\n",
    "print(\"Recall:\", metrics.recall_score(y_test, y_pred,pos_label='positive',average='macro'))"
   ]
  },
  {
   "cell_type": "code",
   "execution_count": 151,
   "metadata": {},
   "outputs": [],
   "source": [
    "SNR1= Features[17000:18000]\n",
    "SNR2=Features[37000:38000]\n",
    "SNR3=Features[57000:58000]\n",
    "SNR4=Features[77000:78000]\n",
    "SNR5=Features[97000:98000]\n",
    "SNR6=Features[117000:118000]\n",
    "SNR7=Features[137000:138000]\n",
    "SNR8=Features[157000:158000]\n",
    "#SNR9=Features[177000:178000]\n",
    "#SNR10=Features[197000:198000]\n",
    "#SNR11=Features[217000:218000]\n",
    "SNR=np.concatenate((SNR1,SNR2,SNR3,SNR4,SNR5,SNR6,SNR7,SNR8),axis=0)"
   ]
  },
  {
   "cell_type": "code",
   "execution_count": 152,
   "metadata": {},
   "outputs": [],
   "source": [
    "lbl1= s[17000:18000]\n",
    "lbl2=s[37000:38000]\n",
    "lbl3=s[57000:58000]\n",
    "lbl4=s[77000:78000]\n",
    "lbl5=s[97000:98000]\n",
    "lbl6=s[117000:118000]\n",
    "lbl7=s[137000:138000]\n",
    "lbl8=s[157000:158000]\n",
    "#lbl9=lbl[177000:178000]\n",
    "#lbl10=lbl[197000:198000]\n",
    "#lbl11=lbl[217000:218000]\n",
    "lbl=np.concatenate((lbl1,lbl2,lbl3,lbl4,lbl5,lbl6,lbl7,lbl8),axis=0)"
   ]
  },
  {
   "cell_type": "code",
   "execution_count": 153,
   "metadata": {},
   "outputs": [],
   "source": [
    "from sklearn.model_selection import train_test_split\n",
    "\n",
    "#split dataset into train and test data\n",
    "X_train, X_test, y_train, y_test = train_test_split(SNR, lbl, test_size=0.1, random_state=1, stratify=lbl)"
   ]
  },
  {
   "cell_type": "code",
   "execution_count": 154,
   "metadata": {},
   "outputs": [],
   "source": [
    "# Import svm model\n",
    "from sklearn import svm\n",
    "\n",
    "# Create a svm Classifier\n",
    "clf = svm.SVC(kernel='linear') # Linear Kernel\n",
    "\n",
    "# Train the model using the training sets\n",
    "clf.fit(X_train, y_train)\n",
    "\n",
    "# Predict the response for test dataset\n",
    "y_pred = clf.predict(X_test)"
   ]
  },
  {
   "cell_type": "code",
   "execution_count": 155,
   "metadata": {},
   "outputs": [
    {
     "name": "stdout",
     "output_type": "stream",
     "text": [
      "Accuracy: 0.5175\n"
     ]
    }
   ],
   "source": [
    "#Import scikit-learn metrics module for accuracy calculation\n",
    "from sklearn import metrics\n",
    "\n",
    "# Model Accuracy: how often is the classifier correct?\n",
    "print(\"Accuracy:\", metrics.accuracy_score(y_test, y_pred))"
   ]
  },
  {
   "cell_type": "code",
   "execution_count": 157,
   "metadata": {},
   "outputs": [
    {
     "name": "stdout",
     "output_type": "stream",
     "text": [
      "Precision: 0.5243633934088203\n",
      "Recall: 0.5175000000000001\n"
     ]
    }
   ],
   "source": [
    "from sklearn.metrics import precision_score\n",
    "from sklearn.metrics import recall_score\n",
    "\n",
    "# Model Precision: what percentage of positive tuples are labeled as such?\n",
    "print(\"Precision:\", metrics.precision_score(y_test, y_pred, pos_label='positive',average='macro')) \n",
    "           \n",
    "\n",
    "# Model Recall: what percentage of positive tuples are labelled as such?\n",
    "print(\"Recall:\", metrics.recall_score(y_test, y_pred,pos_label='positive',average='macro'))"
   ]
  },
  {
   "cell_type": "code",
   "execution_count": 158,
   "metadata": {},
   "outputs": [],
   "source": [
    "SNR1= Features[18000:19000]\n",
    "SNR2=Features[38000:39000]\n",
    "SNR3=Features[58000:59000]\n",
    "SNR4=Features[78000:79000]\n",
    "SNR5=Features[98000:99000]\n",
    "SNR6=Features[118000:119000]\n",
    "SNR7=Features[138000:139000]\n",
    "SNR8=Features[158000:159000]\n",
    "#SNR9=Features[178000:179000]\n",
    "#SNR10=Features[198000:199000]\n",
    "#SNR11=Features[218000:219000]\n",
    "SNR=np.concatenate((SNR1,SNR2,SNR3,SNR4,SNR5,SNR6,SNR7,SNR8),axis=0)"
   ]
  },
  {
   "cell_type": "code",
   "execution_count": 159,
   "metadata": {},
   "outputs": [],
   "source": [
    "lbl1= s[18000:19000]\n",
    "lbl2=s[38000:39000]\n",
    "lbl3=s[58000:59000]\n",
    "lbl4=s[78000:79000]\n",
    "lbl5=s[98000:99000]\n",
    "lbl6=s[118000:119000]\n",
    "lbl7=s[138000:139000]\n",
    "lbl8=s[158000:159000]\n",
    "#lbl9=lbl[178000:179000]\n",
    "#lbl10=lbl[198000:199000]\n",
    "#lbl11=lbl[218000:219000]\n",
    "lbl=np.concatenate((lbl1,lbl2,lbl3,lbl4,lbl5,lbl6,lbl7,lbl8),axis=0)"
   ]
  },
  {
   "cell_type": "code",
   "execution_count": 160,
   "metadata": {},
   "outputs": [],
   "source": [
    "from sklearn.model_selection import train_test_split\n",
    "\n",
    "#split dataset into train and test data\n",
    "X_train, X_test, y_train, y_test = train_test_split(SNR, lbl, test_size=0.1, random_state=1, stratify=lbl)"
   ]
  },
  {
   "cell_type": "code",
   "execution_count": 161,
   "metadata": {},
   "outputs": [],
   "source": [
    "# Import svm model\n",
    "from sklearn import svm\n",
    "\n",
    "# Create a svm Classifier\n",
    "clf = svm.SVC(kernel='linear') # Linear Kernel\n",
    "\n",
    "# Train the model using the training sets\n",
    "clf.fit(X_train, y_train)\n",
    "\n",
    "# Predict the response for test dataset\n",
    "y_pred = clf.predict(X_test)"
   ]
  },
  {
   "cell_type": "code",
   "execution_count": 162,
   "metadata": {},
   "outputs": [
    {
     "name": "stdout",
     "output_type": "stream",
     "text": [
      "Accuracy: 0.55125\n"
     ]
    }
   ],
   "source": [
    "#Import scikit-learn metrics module for accuracy calculation\n",
    "from sklearn import metrics\n",
    "\n",
    "# Model Accuracy: how often is the classifier correct?\n",
    "print(\"Accuracy:\", metrics.accuracy_score(y_test, y_pred))"
   ]
  },
  {
   "cell_type": "code",
   "execution_count": 164,
   "metadata": {},
   "outputs": [
    {
     "name": "stdout",
     "output_type": "stream",
     "text": [
      "Precision: 0.5634224811459365\n",
      "Recall: 0.55125\n"
     ]
    }
   ],
   "source": [
    "from sklearn.metrics import precision_score\n",
    "from sklearn.metrics import recall_score\n",
    "\n",
    "# Model Precision: what percentage of positive tuples are labeled as such?\n",
    "print(\"Precision:\", metrics.precision_score(y_test, y_pred, pos_label='positive',average='macro')) \n",
    "           \n",
    "\n",
    "# Model Recall: what percentage of positive tuples are labelled as such?\n",
    "print(\"Recall:\", metrics.recall_score(y_test, y_pred,pos_label='positive',average='macro'))"
   ]
  },
  {
   "cell_type": "code",
   "execution_count": 26,
   "metadata": {},
   "outputs": [],
   "source": [
    "SNR1= Features[19000:20000]\n",
    "SNR2=Features[39000:40000]\n",
    "SNR3=Features[59000:60000]\n",
    "SNR4=Features[79000:80000]\n",
    "SNR5=Features[99000:100000]\n",
    "SNR6=Features[119000:120000]\n",
    "SNR7=Features[139000:140000]\n",
    "SNR8=Features[159000:160000]\n",
    "#SNR9=Features[179000:180000]\n",
    "#SNR10=Features[199000:200000]\n",
    "#SNR11=Features[219000:220000]\n",
    "SNR=np.concatenate((SNR1,SNR2,SNR3,SNR4,SNR5,SNR6,SNR7,SNR8),axis=0)"
   ]
  },
  {
   "cell_type": "code",
   "execution_count": 27,
   "metadata": {},
   "outputs": [],
   "source": [
    "lbl1= s[19000:20000]\n",
    "lbl2=s[39000:40000]\n",
    "lbl3=s[59000:60000]\n",
    "lbl4=s[79000:80000]\n",
    "lbl5=s[99000:100000]\n",
    "lbl6=s[119000:120000]\n",
    "lbl7=s[139000:140000]\n",
    "lbl8=s[159000:160000]\n",
    "#lbl9=lbl[179000:180000]\n",
    "#lbl10=lbl[199000:200000]\n",
    "#lbl11=lbl[219000:220000]\n",
    "lbl=np.concatenate((lbl1,lbl2,lbl3,lbl4,lbl5,lbl6,lbl7,lbl8),axis=0)"
   ]
  },
  {
   "cell_type": "code",
   "execution_count": 28,
   "metadata": {},
   "outputs": [],
   "source": [
    "from sklearn.model_selection import train_test_split\n",
    "\n",
    "#split dataset into train and test data\n",
    "X_train, X_test, y_train, y_test = train_test_split(SNR, lbl, test_size=0.1, random_state=1, stratify=lbl)"
   ]
  },
  {
   "cell_type": "code",
   "execution_count": 29,
   "metadata": {},
   "outputs": [],
   "source": [
    "# Import svm model\n",
    "from sklearn import svm\n",
    "\n",
    "# Create a svm Classifier\n",
    "clf = svm.SVC(kernel='linear') # Linear Kernel\n",
    "\n",
    "# Train the model using the training sets\n",
    "clf.fit(X_train, y_train)\n",
    "\n",
    "# Predict the response for test dataset\n",
    "y_pred = clf.predict(X_test)"
   ]
  },
  {
   "cell_type": "code",
   "execution_count": 30,
   "metadata": {},
   "outputs": [
    {
     "name": "stdout",
     "output_type": "stream",
     "text": [
      "Accuracy: 0.55125\n"
     ]
    }
   ],
   "source": [
    "#Import scikit-learn metrics module for accuracy calculation\n",
    "from sklearn import metrics\n",
    "\n",
    "# Model Accuracy: how often is the classifier correct?\n",
    "print(\"Accuracy:\", metrics.accuracy_score(y_test, y_pred))"
   ]
  },
  {
   "cell_type": "code",
   "execution_count": 32,
   "metadata": {},
   "outputs": [
    {
     "name": "stdout",
     "output_type": "stream",
     "text": [
      "Precision: 0.5907981134852942\n",
      "Recall: 0.55125\n"
     ]
    }
   ],
   "source": [
    "from sklearn.metrics import precision_score\n",
    "from sklearn.metrics import recall_score\n",
    "\n",
    "# Model Precision: what percentage of positive tuples are labeled as such?\n",
    "print(\"Precision:\", metrics.precision_score(y_test, y_pred, pos_label='positive',average='macro')) \n",
    "           \n",
    "\n",
    "# Model Recall: what percentage of positive tuples are labelled as such?\n",
    "print(\"Recall:\", metrics.recall_score(y_test, y_pred,pos_label='positive',average='macro'))"
   ]
  },
  {
   "cell_type": "code",
   "execution_count": 33,
   "metadata": {},
   "outputs": [],
   "source": [
    "from sklearn.svm import SVC\n",
    "#Setup a knn classifier with k neighbors\n",
    "knn = SVC(kernel=\"linear\", C=0.55)"
   ]
  },
  {
   "cell_type": "code",
   "execution_count": 34,
   "metadata": {},
   "outputs": [
    {
     "data": {
      "text/plain": [
       "SVC(kernel='linear')"
      ]
     },
     "execution_count": 34,
     "metadata": {},
     "output_type": "execute_result"
    }
   ],
   "source": [
    "#Fit the model\n",
    "clf.fit(X_train, y_train)"
   ]
  },
  {
   "cell_type": "code",
   "execution_count": 35,
   "metadata": {},
   "outputs": [],
   "source": [
    "#Get accuracy. Note: In case of classification algorithms score method represents accuracy.\n",
    "score = clf.score(X_test, y_test)"
   ]
  },
  {
   "cell_type": "code",
   "execution_count": 36,
   "metadata": {},
   "outputs": [
    {
     "data": {
      "text/plain": [
       "0.55125"
      ]
     },
     "execution_count": 36,
     "metadata": {},
     "output_type": "execute_result"
    }
   ],
   "source": [
    "score"
   ]
  },
  {
   "cell_type": "code",
   "execution_count": 37,
   "metadata": {},
   "outputs": [],
   "source": [
    "#import confusion_matrix\n",
    "from sklearn.metrics import confusion_matrix"
   ]
  },
  {
   "cell_type": "code",
   "execution_count": 38,
   "metadata": {},
   "outputs": [],
   "source": [
    "#let us get the predictions using the classifier we had fit above\n",
    "y_pred = clf.predict(X_test)"
   ]
  },
  {
   "cell_type": "code",
   "execution_count": 39,
   "metadata": {},
   "outputs": [
    {
     "data": {
      "text/plain": [
       "array([[97,  0,  2,  0,  0,  0,  0,  1],\n",
       "       [ 0, 90,  0,  9,  0,  0,  1,  0],\n",
       "       [ 0,  1, 36,  0,  0, 57,  6,  0],\n",
       "       [ 0, 31,  1, 58,  3,  0,  7,  0],\n",
       "       [ 0, 47,  3,  7, 13,  1, 27,  2],\n",
       "       [ 0,  1, 21,  0,  0, 75,  2,  1],\n",
       "       [ 0, 25,  1, 11,  6,  1, 56,  0],\n",
       "       [66,  6,  5,  1,  0,  3,  3, 16]], dtype=int64)"
      ]
     },
     "execution_count": 39,
     "metadata": {},
     "output_type": "execute_result"
    }
   ],
   "source": [
    "confusion_matrix(y_test, y_pred)"
   ]
  },
  {
   "cell_type": "code",
   "execution_count": 44,
   "metadata": {},
   "outputs": [
    {
     "data": {
      "image/png": "[encoded data removed]",
      "text/plain": [
       "<Figure size 432x288 with 2 Axes>"
      ]
     },
     "metadata": {},
     "output_type": "display_data"
    }
   ],
   "source": [
    "from sklearn.metrics import confusion_matrix, ConfusionMatrixDisplay\n",
    "\n",
    "cm = confusion_matrix(y_test, y_pred, normalize='all')\n",
    "# cmd = ConfusionMatrixDisplay(cm, display_labels=['business','health'])\n",
    "cmd = ConfusionMatrixDisplay(cm)\n",
    "cmd.plot()\n",
    "plt.savefig('cmd2.png')"
   ]
  },
  {
   "cell_type": "code",
   "execution_count": 45,
   "metadata": {},
   "outputs": [],
   "source": [
    "#import classification_report\n",
    "from sklearn.metrics import classification_report"
   ]
  },
  {
   "cell_type": "code",
   "execution_count": 46,
   "metadata": {},
   "outputs": [
    {
     "name": "stdout",
     "output_type": "stream",
     "text": [
      "              precision    recall  f1-score   support\n",
      "\n",
      "   b'AM-DSB'       0.60      0.97      0.74       100\n",
      "   b'AM-SSB'       0.45      0.90      0.60       100\n",
      "     b'BPSK'       0.52      0.36      0.43       100\n",
      "    b'CPFSK'       0.67      0.58      0.62       100\n",
      "     b'GFSK'       0.59      0.13      0.21       100\n",
      "     b'PAM4'       0.55      0.75      0.63       100\n",
      "     b'QPSK'       0.55      0.56      0.55       100\n",
      "     b'WBFM'       0.80      0.16      0.27       100\n",
      "\n",
      "    accuracy                           0.55       800\n",
      "   macro avg       0.59      0.55      0.51       800\n",
      "weighted avg       0.59      0.55      0.51       800\n",
      "\n"
     ]
    }
   ],
   "source": [
    "print(classification_report(y_test, y_pred))"
   ]
  },
  {
   "cell_type": "code",
   "execution_count": 223,
   "metadata": {},
   "outputs": [
    {
     "data": {
      "text/html": [
       "<div>\n",
       "<style scoped>\n",
       "    .dataframe tbody tr th:only-of-type {\n",
       "        vertical-align: middle;\n",
       "    }\n",
       "\n",
       "    .dataframe tbody tr th {\n",
       "        vertical-align: top;\n",
       "    }\n",
       "\n",
       "    .dataframe thead th {\n",
       "        text-align: right;\n",
       "    }\n",
       "</style>\n",
       "<table border=\"1\" class=\"dataframe\">\n",
       "  <thead>\n",
       "    <tr style=\"text-align: right;\">\n",
       "      <th></th>\n",
       "      <th>SNR</th>\n",
       "      <th>Accuracy</th>\n",
       "    </tr>\n",
       "  </thead>\n",
       "  <tbody>\n",
       "    <tr>\n",
       "      <th>0</th>\n",
       "      <td>-20</td>\n",
       "      <td>12.2</td>\n",
       "    </tr>\n",
       "    <tr>\n",
       "      <th>1</th>\n",
       "      <td>-18</td>\n",
       "      <td>11.0</td>\n",
       "    </tr>\n",
       "    <tr>\n",
       "      <th>2</th>\n",
       "      <td>-16</td>\n",
       "      <td>11.3</td>\n",
       "    </tr>\n",
       "    <tr>\n",
       "      <th>3</th>\n",
       "      <td>-14</td>\n",
       "      <td>14.0</td>\n",
       "    </tr>\n",
       "    <tr>\n",
       "      <th>4</th>\n",
       "      <td>-12</td>\n",
       "      <td>14.8</td>\n",
       "    </tr>\n",
       "    <tr>\n",
       "      <th>5</th>\n",
       "      <td>-10</td>\n",
       "      <td>15.6</td>\n",
       "    </tr>\n",
       "    <tr>\n",
       "      <th>6</th>\n",
       "      <td>-8</td>\n",
       "      <td>17.2</td>\n",
       "    </tr>\n",
       "    <tr>\n",
       "      <th>7</th>\n",
       "      <td>-6</td>\n",
       "      <td>21.2</td>\n",
       "    </tr>\n",
       "    <tr>\n",
       "      <th>8</th>\n",
       "      <td>-4</td>\n",
       "      <td>27.1</td>\n",
       "    </tr>\n",
       "    <tr>\n",
       "      <th>9</th>\n",
       "      <td>-2</td>\n",
       "      <td>34.5</td>\n",
       "    </tr>\n",
       "    <tr>\n",
       "      <th>10</th>\n",
       "      <td>0</td>\n",
       "      <td>31.1</td>\n",
       "    </tr>\n",
       "    <tr>\n",
       "      <th>11</th>\n",
       "      <td>2</td>\n",
       "      <td>39.2</td>\n",
       "    </tr>\n",
       "    <tr>\n",
       "      <th>12</th>\n",
       "      <td>4</td>\n",
       "      <td>43.7</td>\n",
       "    </tr>\n",
       "    <tr>\n",
       "      <th>13</th>\n",
       "      <td>6</td>\n",
       "      <td>47.5</td>\n",
       "    </tr>\n",
       "    <tr>\n",
       "      <th>14</th>\n",
       "      <td>8</td>\n",
       "      <td>48.2</td>\n",
       "    </tr>\n",
       "    <tr>\n",
       "      <th>15</th>\n",
       "      <td>10</td>\n",
       "      <td>47.6</td>\n",
       "    </tr>\n",
       "    <tr>\n",
       "      <th>16</th>\n",
       "      <td>12</td>\n",
       "      <td>48.2</td>\n",
       "    </tr>\n",
       "    <tr>\n",
       "      <th>17</th>\n",
       "      <td>14</td>\n",
       "      <td>51.7</td>\n",
       "    </tr>\n",
       "    <tr>\n",
       "      <th>18</th>\n",
       "      <td>16</td>\n",
       "      <td>55.1</td>\n",
       "    </tr>\n",
       "    <tr>\n",
       "      <th>19</th>\n",
       "      <td>18</td>\n",
       "      <td>55.1</td>\n",
       "    </tr>\n",
       "  </tbody>\n",
       "</table>\n",
       "</div>"
      ],
      "text/plain": [
       "    SNR  Accuracy\n",
       "0   -20      12.2\n",
       "1   -18      11.0\n",
       "2   -16      11.3\n",
       "3   -14      14.0\n",
       "4   -12      14.8\n",
       "5   -10      15.6\n",
       "6    -8      17.2\n",
       "7    -6      21.2\n",
       "8    -4      27.1\n",
       "9    -2      34.5\n",
       "10    0      31.1\n",
       "11    2      39.2\n",
       "12    4      43.7\n",
       "13    6      47.5\n",
       "14    8      48.2\n",
       "15   10      47.6\n",
       "16   12      48.2\n",
       "17   14      51.7\n",
       "18   16      55.1\n",
       "19   18      55.1"
      ]
     },
     "execution_count": 223,
     "metadata": {},
     "output_type": "execute_result"
    }
   ],
   "source": [
    "import pandas as pd\n",
    "data = [[-20, 12.2], [-18,11],[-16,11.3],[-14,14],[-12,14.8],[-10,15.6],[-8,17.2],[-6,21.2],[-4,27.1],[-2,34.5],[0,31.1],[2,39.2],[4,43.7],[6,47.5],[8,48.2],[10,47.6],[12,48.2],[14,51.7],[16,55.1],[18,55.1]]\n",
    "pd.DataFrame(data, columns=[\"SNR\", \"Accuracy\"])"
   ]
  },
  {
   "cell_type": "code",
   "execution_count": 2,
   "metadata": {},
   "outputs": [
    {
     "data": {
      "image/png": "[encoded data removed]",
      "text/plain": [
       "<Figure size 432x288 with 1 Axes>"
      ]
     },
     "metadata": {},
     "output_type": "display_data"
    }
   ],
   "source": [
    "Accuracy = [12.2,11,11.3,14,14.8,15.6,17.2,21.2,27.1,34.5,31.1,39.2,43.7,47.5,48.2,47.6,48.2,51.7,55.1,55.1]\n",
    "SNR = [-20,-18,-16,-14,-12,-10,-8,-6,-4,-2,0,2,4,6,8,10,12,14,16,18]\n",
    "\n",
    "plt.plot(SNR,Accuracy)\n",
    "plt.xlabel('SNR')\n",
    "plt.ylabel('Accuracy')\n",
    "plt.savefig('12.png')"
   ]
  },
  {
   "cell_type": "code",
   "execution_count": 3,
   "metadata": {},
   "outputs": [
    {
     "data": {
      "image/png": "[encoded data removed]",
      "text/plain": [
       "<Figure size 432x288 with 1 Axes>"
      ]
     },
     "metadata": {},
     "output_type": "display_data"
    }
   ],
   "source": [
    "Accuracy = [13.34,13.6,13.31,13.45,12.94,15,20,25.12,33.097,40.125,45.47,52.76,57.625,60,60,59.16,61.27,61.48,62.59,63.91]\n",
    "SNR = [-20,-18,-16,-14,-12,-10,-8,-6,-4,-2,0,2,4,6,8,10,12,14,16,18]\n",
    "\n",
    "Accuracy1 = [12.2,11,11.3,14,14.8,15.6,17.2,21.2,27.1,34.5,31.1,39.2,43.7,47.5,48.2,47.6,48.2,51.7,55.1,55.1]\n",
    "SNR1 = [-20,-18,-16,-14,-12,-10,-8,-6,-4,-2,0,2,4,6,8,10,12,14,16,18]\n",
    "\n",
    "plt.plot(SNR,Accuracy,label='Full length without three types(KNN)')\n",
    "plt.plot(SNR1,Accuracy1,label='Full length without three types(SVM)')\n",
    "plt.legend()\n",
    "plt.xlabel('SNR')\n",
    "plt.ylabel('Accuracy')\n",
    "plt.savefig('n.png')"
   ]
  },
  {
   "cell_type": "code",
   "execution_count": 8,
   "metadata": {},
   "outputs": [
    {
     "data": {
      "image/png": "[encoded data removed]",
      "text/plain": [
       "<Figure size 432x288 with 1 Axes>"
      ]
     },
     "metadata": {},
     "output_type": "display_data"
    }
   ],
   "source": [
    "Accuracy1 = [12.2,11,11.3,14,14.8,15.6,17.2,21.2,27.1,34.5,31.1,39.2,43.7,47.5,48.2,47.6,48.2,51.7,55.1,55.1]\n",
    "SNR1 = [-20,-18,-16,-14,-12,-10,-8,-6,-4,-2,0,2,4,6,8,10,12,14,16,18]\n",
    "Accuracy = [12.2,12,11.2,12.2,12.7,14.2,16.6,20.2,24.3,31,27.8,38.8,42.7,44.5,46.2,46.5,48.3,47.8,49.3,52.5]\n",
    "SNR = [-20,-18,-16,-14,-12,-10,-8,-6,-4,-2,0,2,4,6,8,10,12,14,16,18]\n",
    "\n",
    "\n",
    "plt.plot(SNR,Accuracy,label='Half length without three types(SVM)')\n",
    "plt.plot(SNR1,Accuracy1,label='Full length without three types(SVM)')\n",
    "\n",
    "plt.legend()\n",
    "plt.xlabel('SNR')\n",
    "plt.ylabel('Accuracy')\n",
    "plt.savefig('1sl.png')\n"
   ]
  },
  {
   "cell_type": "code",
   "execution_count": 9,
   "metadata": {},
   "outputs": [
    {
     "data": {
      "image/png": "[encoded data removed]",
      "text/plain": [
       "<Figure size 432x288 with 1 Axes>"
      ]
     },
     "metadata": {},
     "output_type": "display_data"
    }
   ],
   "source": [
    "Accuracy1 = [9,9.9,8.8,8.9,11.1,12.3,14.9,17.7,21.2,23,21.3,26.6,31.3,34.3,36.5,36.4,36.6,39.9,40,42]\n",
    "SNR1 = [-20,-18,-16,-14,-12,-10,-8,-6,-4,-2,0,2,4,6,8,10,12,14,16,18]\n",
    "Accuracy = [8.9,9.4,9,9,10.3,11.1,13.6,16.6,19.4,22.4,20.1,26.3,30.4,32.8,35.5,33.1,34.3,35.1,37,36.2]\n",
    "SNR = [-20,-18,-16,-14,-12,-10,-8,-6,-4,-2,0,2,4,6,8,10,12,14,16,18]\n",
    "\n",
    "plt.plot(SNR,Accuracy,label='Half length with all types (SVM)')\n",
    "plt.plot(SNR1,Accuracy1,label='Full length with all types(svm)')\n",
    "\n",
    "plt.legend()\n",
    "plt.xlabel('SNR')\n",
    "plt.ylabel('Accuracy')\n",
    "plt.savefig('2sl.png')\n",
    "\n"
   ]
  },
  {
   "cell_type": "code",
   "execution_count": null,
   "metadata": {},
   "outputs": [],
   "source": []
  }
 ],
 "metadata": {
  "kernelspec": {
   "display_name": "Python 3",
   "language": "python",
   "name": "python3"
  },
  "language_info": {
   "codemirror_mode": {
    "name": "ipython",
    "version": 3
   },
   "file_extension": ".py",
   "mimetype": "text/x-python",
   "name": "python",
   "nbconvert_exporter": "python",
   "pygments_lexer": "ipython3",
   "version": "3.8.3"
  }
 },
 "nbformat": 4,
 "nbformat_minor": 4
}
